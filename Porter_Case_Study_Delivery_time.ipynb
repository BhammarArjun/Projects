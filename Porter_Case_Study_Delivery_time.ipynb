{
  "cells": [
    {
      "cell_type": "code",
      "execution_count": null,
      "metadata": {
        "id": "uDHH8BOX7Ppa"
      },
      "outputs": [],
      "source": [
        "import warnings\n",
        "warnings.filterwarnings(\"ignore\")\n"
      ]
    },
    {
      "cell_type": "code",
      "execution_count": null,
      "metadata": {
        "id": "TmwEcAIrudWf"
      },
      "outputs": [],
      "source": [
        "import gdown"
      ]
    },
    {
      "cell_type": "code",
      "execution_count": null,
      "metadata": {
        "colab": {
          "base_uri": "https://localhost:8080/"
        },
        "id": "ax5C1RzluskG",
        "outputId": "8fc90318-3ff9-405a-8068-319c66985edf"
      },
      "outputs": [
        {
          "name": "stdout",
          "output_type": "stream",
          "text": [
            "Downloading...\n",
            "From: https://drive.google.com/uc?id=1UylKm8Kz7RMq7Em40VAYeWW_9gXlhPUd\n",
            "To: /content/porter.csv\n",
            "100% 23.8M/23.8M [00:00<00:00, 130MB/s] \n"
          ]
        }
      ],
      "source": [
        "!gdown 1UylKm8Kz7RMq7Em40VAYeWW_9gXlhPUd"
      ]
    },
    {
      "cell_type": "code",
      "execution_count": null,
      "metadata": {
        "id": "P05veCpfu36v"
      },
      "outputs": [],
      "source": [
        "import pandas as pd\n",
        "import numpy as np\n",
        "import matplotlib.pyplot as plt\n",
        "import seaborn as sbn"
      ]
    },
    {
      "cell_type": "code",
      "execution_count": null,
      "metadata": {
        "colab": {
          "base_uri": "https://localhost:8080/",
          "height": 313
        },
        "id": "sib8Mrz_vfUT",
        "outputId": "0fc789ba-efe5-4ca7-9892-18a2ffd412a7"
      },
      "outputs": [
        {
          "data": {
            "text/html": [
              "\n",
              "  <div id=\"df-2491352b-3e91-4048-a9d7-2dcffbdf83e5\" class=\"colab-df-container\">\n",
              "    <div>\n",
              "<style scoped>\n",
              "    .dataframe tbody tr th:only-of-type {\n",
              "        vertical-align: middle;\n",
              "    }\n",
              "\n",
              "    .dataframe tbody tr th {\n",
              "        vertical-align: top;\n",
              "    }\n",
              "\n",
              "    .dataframe thead th {\n",
              "        text-align: right;\n",
              "    }\n",
              "</style>\n",
              "<table border=\"1\" class=\"dataframe\">\n",
              "  <thead>\n",
              "    <tr style=\"text-align: right;\">\n",
              "      <th></th>\n",
              "      <th>market_id</th>\n",
              "      <th>created_at</th>\n",
              "      <th>actual_delivery_time</th>\n",
              "      <th>store_id</th>\n",
              "      <th>store_primary_category</th>\n",
              "      <th>order_protocol</th>\n",
              "      <th>total_items</th>\n",
              "      <th>subtotal</th>\n",
              "      <th>num_distinct_items</th>\n",
              "      <th>min_item_price</th>\n",
              "      <th>max_item_price</th>\n",
              "      <th>total_onshift_partners</th>\n",
              "      <th>total_busy_partners</th>\n",
              "      <th>total_outstanding_orders</th>\n",
              "    </tr>\n",
              "  </thead>\n",
              "  <tbody>\n",
              "    <tr>\n",
              "      <th>0</th>\n",
              "      <td>1.0</td>\n",
              "      <td>2015-02-06 22:24:17</td>\n",
              "      <td>2015-02-06 23:27:16</td>\n",
              "      <td>df263d996281d984952c07998dc54358</td>\n",
              "      <td>american</td>\n",
              "      <td>1.0</td>\n",
              "      <td>4</td>\n",
              "      <td>3441</td>\n",
              "      <td>4</td>\n",
              "      <td>557</td>\n",
              "      <td>1239</td>\n",
              "      <td>33.0</td>\n",
              "      <td>14.0</td>\n",
              "      <td>21.0</td>\n",
              "    </tr>\n",
              "    <tr>\n",
              "      <th>1</th>\n",
              "      <td>2.0</td>\n",
              "      <td>2015-02-10 21:49:25</td>\n",
              "      <td>2015-02-10 22:56:29</td>\n",
              "      <td>f0ade77b43923b38237db569b016ba25</td>\n",
              "      <td>mexican</td>\n",
              "      <td>2.0</td>\n",
              "      <td>1</td>\n",
              "      <td>1900</td>\n",
              "      <td>1</td>\n",
              "      <td>1400</td>\n",
              "      <td>1400</td>\n",
              "      <td>1.0</td>\n",
              "      <td>2.0</td>\n",
              "      <td>2.0</td>\n",
              "    </tr>\n",
              "    <tr>\n",
              "      <th>2</th>\n",
              "      <td>3.0</td>\n",
              "      <td>2015-01-22 20:39:28</td>\n",
              "      <td>2015-01-22 21:09:09</td>\n",
              "      <td>f0ade77b43923b38237db569b016ba25</td>\n",
              "      <td>NaN</td>\n",
              "      <td>1.0</td>\n",
              "      <td>1</td>\n",
              "      <td>1900</td>\n",
              "      <td>1</td>\n",
              "      <td>1900</td>\n",
              "      <td>1900</td>\n",
              "      <td>1.0</td>\n",
              "      <td>0.0</td>\n",
              "      <td>0.0</td>\n",
              "    </tr>\n",
              "    <tr>\n",
              "      <th>3</th>\n",
              "      <td>3.0</td>\n",
              "      <td>2015-02-03 21:21:45</td>\n",
              "      <td>2015-02-03 22:13:00</td>\n",
              "      <td>f0ade77b43923b38237db569b016ba25</td>\n",
              "      <td>NaN</td>\n",
              "      <td>1.0</td>\n",
              "      <td>6</td>\n",
              "      <td>6900</td>\n",
              "      <td>5</td>\n",
              "      <td>600</td>\n",
              "      <td>1800</td>\n",
              "      <td>1.0</td>\n",
              "      <td>1.0</td>\n",
              "      <td>2.0</td>\n",
              "    </tr>\n",
              "    <tr>\n",
              "      <th>4</th>\n",
              "      <td>3.0</td>\n",
              "      <td>2015-02-15 02:40:36</td>\n",
              "      <td>2015-02-15 03:20:26</td>\n",
              "      <td>f0ade77b43923b38237db569b016ba25</td>\n",
              "      <td>NaN</td>\n",
              "      <td>1.0</td>\n",
              "      <td>3</td>\n",
              "      <td>3900</td>\n",
              "      <td>3</td>\n",
              "      <td>1100</td>\n",
              "      <td>1600</td>\n",
              "      <td>6.0</td>\n",
              "      <td>6.0</td>\n",
              "      <td>9.0</td>\n",
              "    </tr>\n",
              "  </tbody>\n",
              "</table>\n",
              "</div>\n",
              "    <div class=\"colab-df-buttons\">\n",
              "\n",
              "  <div class=\"colab-df-container\">\n",
              "    <button class=\"colab-df-convert\" onclick=\"convertToInteractive('df-2491352b-3e91-4048-a9d7-2dcffbdf83e5')\"\n",
              "            title=\"Convert this dataframe to an interactive table.\"\n",
              "            style=\"display:none;\">\n",
              "\n",
              "  <svg xmlns=\"http://www.w3.org/2000/svg\" height=\"24px\" viewBox=\"0 -960 960 960\">\n",
              "    <path d=\"M120-120v-720h720v720H120Zm60-500h600v-160H180v160Zm220 220h160v-160H400v160Zm0 220h160v-160H400v160ZM180-400h160v-160H180v160Zm440 0h160v-160H620v160ZM180-180h160v-160H180v160Zm440 0h160v-160H620v160Z\"/>\n",
              "  </svg>\n",
              "    </button>\n",
              "\n",
              "  <style>\n",
              "    .colab-df-container {\n",
              "      display:flex;\n",
              "      gap: 12px;\n",
              "    }\n",
              "\n",
              "    .colab-df-convert {\n",
              "      background-color: #E8F0FE;\n",
              "      border: none;\n",
              "      border-radius: 50%;\n",
              "      cursor: pointer;\n",
              "      display: none;\n",
              "      fill: #1967D2;\n",
              "      height: 32px;\n",
              "      padding: 0 0 0 0;\n",
              "      width: 32px;\n",
              "    }\n",
              "\n",
              "    .colab-df-convert:hover {\n",
              "      background-color: #E2EBFA;\n",
              "      box-shadow: 0px 1px 2px rgba(60, 64, 67, 0.3), 0px 1px 3px 1px rgba(60, 64, 67, 0.15);\n",
              "      fill: #174EA6;\n",
              "    }\n",
              "\n",
              "    .colab-df-buttons div {\n",
              "      margin-bottom: 4px;\n",
              "    }\n",
              "\n",
              "    [theme=dark] .colab-df-convert {\n",
              "      background-color: #3B4455;\n",
              "      fill: #D2E3FC;\n",
              "    }\n",
              "\n",
              "    [theme=dark] .colab-df-convert:hover {\n",
              "      background-color: #434B5C;\n",
              "      box-shadow: 0px 1px 3px 1px rgba(0, 0, 0, 0.15);\n",
              "      filter: drop-shadow(0px 1px 2px rgba(0, 0, 0, 0.3));\n",
              "      fill: #FFFFFF;\n",
              "    }\n",
              "  </style>\n",
              "\n",
              "    <script>\n",
              "      const buttonEl =\n",
              "        document.querySelector('#df-2491352b-3e91-4048-a9d7-2dcffbdf83e5 button.colab-df-convert');\n",
              "      buttonEl.style.display =\n",
              "        google.colab.kernel.accessAllowed ? 'block' : 'none';\n",
              "\n",
              "      async function convertToInteractive(key) {\n",
              "        const element = document.querySelector('#df-2491352b-3e91-4048-a9d7-2dcffbdf83e5');\n",
              "        const dataTable =\n",
              "          await google.colab.kernel.invokeFunction('convertToInteractive',\n",
              "                                                    [key], {});\n",
              "        if (!dataTable) return;\n",
              "\n",
              "        const docLinkHtml = 'Like what you see? Visit the ' +\n",
              "          '<a target=\"_blank\" href=https://colab.research.google.com/notebooks/data_table.ipynb>data table notebook</a>'\n",
              "          + ' to learn more about interactive tables.';\n",
              "        element.innerHTML = '';\n",
              "        dataTable['output_type'] = 'display_data';\n",
              "        await google.colab.output.renderOutput(dataTable, element);\n",
              "        const docLink = document.createElement('div');\n",
              "        docLink.innerHTML = docLinkHtml;\n",
              "        element.appendChild(docLink);\n",
              "      }\n",
              "    </script>\n",
              "  </div>\n",
              "\n",
              "\n",
              "<div id=\"df-d37d274d-7538-4577-920c-e2f23b193142\">\n",
              "  <button class=\"colab-df-quickchart\" onclick=\"quickchart('df-d37d274d-7538-4577-920c-e2f23b193142')\"\n",
              "            title=\"Suggest charts\"\n",
              "            style=\"display:none;\">\n",
              "\n",
              "<svg xmlns=\"http://www.w3.org/2000/svg\" height=\"24px\"viewBox=\"0 0 24 24\"\n",
              "     width=\"24px\">\n",
              "    <g>\n",
              "        <path d=\"M19 3H5c-1.1 0-2 .9-2 2v14c0 1.1.9 2 2 2h14c1.1 0 2-.9 2-2V5c0-1.1-.9-2-2-2zM9 17H7v-7h2v7zm4 0h-2V7h2v10zm4 0h-2v-4h2v4z\"/>\n",
              "    </g>\n",
              "</svg>\n",
              "  </button>\n",
              "\n",
              "<style>\n",
              "  .colab-df-quickchart {\n",
              "      --bg-color: #E8F0FE;\n",
              "      --fill-color: #1967D2;\n",
              "      --hover-bg-color: #E2EBFA;\n",
              "      --hover-fill-color: #174EA6;\n",
              "      --disabled-fill-color: #AAA;\n",
              "      --disabled-bg-color: #DDD;\n",
              "  }\n",
              "\n",
              "  [theme=dark] .colab-df-quickchart {\n",
              "      --bg-color: #3B4455;\n",
              "      --fill-color: #D2E3FC;\n",
              "      --hover-bg-color: #434B5C;\n",
              "      --hover-fill-color: #FFFFFF;\n",
              "      --disabled-bg-color: #3B4455;\n",
              "      --disabled-fill-color: #666;\n",
              "  }\n",
              "\n",
              "  .colab-df-quickchart {\n",
              "    background-color: var(--bg-color);\n",
              "    border: none;\n",
              "    border-radius: 50%;\n",
              "    cursor: pointer;\n",
              "    display: none;\n",
              "    fill: var(--fill-color);\n",
              "    height: 32px;\n",
              "    padding: 0;\n",
              "    width: 32px;\n",
              "  }\n",
              "\n",
              "  .colab-df-quickchart:hover {\n",
              "    background-color: var(--hover-bg-color);\n",
              "    box-shadow: 0 1px 2px rgba(60, 64, 67, 0.3), 0 1px 3px 1px rgba(60, 64, 67, 0.15);\n",
              "    fill: var(--button-hover-fill-color);\n",
              "  }\n",
              "\n",
              "  .colab-df-quickchart-complete:disabled,\n",
              "  .colab-df-quickchart-complete:disabled:hover {\n",
              "    background-color: var(--disabled-bg-color);\n",
              "    fill: var(--disabled-fill-color);\n",
              "    box-shadow: none;\n",
              "  }\n",
              "\n",
              "  .colab-df-spinner {\n",
              "    border: 2px solid var(--fill-color);\n",
              "    border-color: transparent;\n",
              "    border-bottom-color: var(--fill-color);\n",
              "    animation:\n",
              "      spin 1s steps(1) infinite;\n",
              "  }\n",
              "\n",
              "  @keyframes spin {\n",
              "    0% {\n",
              "      border-color: transparent;\n",
              "      border-bottom-color: var(--fill-color);\n",
              "      border-left-color: var(--fill-color);\n",
              "    }\n",
              "    20% {\n",
              "      border-color: transparent;\n",
              "      border-left-color: var(--fill-color);\n",
              "      border-top-color: var(--fill-color);\n",
              "    }\n",
              "    30% {\n",
              "      border-color: transparent;\n",
              "      border-left-color: var(--fill-color);\n",
              "      border-top-color: var(--fill-color);\n",
              "      border-right-color: var(--fill-color);\n",
              "    }\n",
              "    40% {\n",
              "      border-color: transparent;\n",
              "      border-right-color: var(--fill-color);\n",
              "      border-top-color: var(--fill-color);\n",
              "    }\n",
              "    60% {\n",
              "      border-color: transparent;\n",
              "      border-right-color: var(--fill-color);\n",
              "    }\n",
              "    80% {\n",
              "      border-color: transparent;\n",
              "      border-right-color: var(--fill-color);\n",
              "      border-bottom-color: var(--fill-color);\n",
              "    }\n",
              "    90% {\n",
              "      border-color: transparent;\n",
              "      border-bottom-color: var(--fill-color);\n",
              "    }\n",
              "  }\n",
              "</style>\n",
              "\n",
              "  <script>\n",
              "    async function quickchart(key) {\n",
              "      const quickchartButtonEl =\n",
              "        document.querySelector('#' + key + ' button');\n",
              "      quickchartButtonEl.disabled = true;  // To prevent multiple clicks.\n",
              "      quickchartButtonEl.classList.add('colab-df-spinner');\n",
              "      try {\n",
              "        const charts = await google.colab.kernel.invokeFunction(\n",
              "            'suggestCharts', [key], {});\n",
              "      } catch (error) {\n",
              "        console.error('Error during call to suggestCharts:', error);\n",
              "      }\n",
              "      quickchartButtonEl.classList.remove('colab-df-spinner');\n",
              "      quickchartButtonEl.classList.add('colab-df-quickchart-complete');\n",
              "    }\n",
              "    (() => {\n",
              "      let quickchartButtonEl =\n",
              "        document.querySelector('#df-d37d274d-7538-4577-920c-e2f23b193142 button');\n",
              "      quickchartButtonEl.style.display =\n",
              "        google.colab.kernel.accessAllowed ? 'block' : 'none';\n",
              "    })();\n",
              "  </script>\n",
              "</div>\n",
              "\n",
              "    </div>\n",
              "  </div>\n"
            ],
            "text/plain": [
              "   market_id           created_at actual_delivery_time  \\\n",
              "0        1.0  2015-02-06 22:24:17  2015-02-06 23:27:16   \n",
              "1        2.0  2015-02-10 21:49:25  2015-02-10 22:56:29   \n",
              "2        3.0  2015-01-22 20:39:28  2015-01-22 21:09:09   \n",
              "3        3.0  2015-02-03 21:21:45  2015-02-03 22:13:00   \n",
              "4        3.0  2015-02-15 02:40:36  2015-02-15 03:20:26   \n",
              "\n",
              "                           store_id store_primary_category  order_protocol  \\\n",
              "0  df263d996281d984952c07998dc54358               american             1.0   \n",
              "1  f0ade77b43923b38237db569b016ba25                mexican             2.0   \n",
              "2  f0ade77b43923b38237db569b016ba25                    NaN             1.0   \n",
              "3  f0ade77b43923b38237db569b016ba25                    NaN             1.0   \n",
              "4  f0ade77b43923b38237db569b016ba25                    NaN             1.0   \n",
              "\n",
              "   total_items  subtotal  num_distinct_items  min_item_price  max_item_price  \\\n",
              "0            4      3441                   4             557            1239   \n",
              "1            1      1900                   1            1400            1400   \n",
              "2            1      1900                   1            1900            1900   \n",
              "3            6      6900                   5             600            1800   \n",
              "4            3      3900                   3            1100            1600   \n",
              "\n",
              "   total_onshift_partners  total_busy_partners  total_outstanding_orders  \n",
              "0                    33.0                 14.0                      21.0  \n",
              "1                     1.0                  2.0                       2.0  \n",
              "2                     1.0                  0.0                       0.0  \n",
              "3                     1.0                  1.0                       2.0  \n",
              "4                     6.0                  6.0                       9.0  "
            ]
          },
          "execution_count": 5,
          "metadata": {},
          "output_type": "execute_result"
        }
      ],
      "source": [
        "data = pd.read_csv('porter.csv')\n",
        "data.head()"
      ]
    },
    {
      "cell_type": "code",
      "execution_count": null,
      "metadata": {
        "colab": {
          "base_uri": "https://localhost:8080/"
        },
        "id": "s-9S0M31vleI",
        "outputId": "592a7a2a-90c3-4049-d88c-d818ea47efe4"
      },
      "outputs": [
        {
          "data": {
            "text/plain": [
              "(197428, 14)"
            ]
          },
          "execution_count": 6,
          "metadata": {},
          "output_type": "execute_result"
        }
      ],
      "source": [
        "data.shape"
      ]
    },
    {
      "cell_type": "code",
      "execution_count": null,
      "metadata": {
        "colab": {
          "base_uri": "https://localhost:8080/"
        },
        "id": "IVtfBVDPvpUg",
        "outputId": "292bf93d-1a5f-451f-e1ca-3bab639dba07"
      },
      "outputs": [
        {
          "name": "stdout",
          "output_type": "stream",
          "text": [
            "<class 'pandas.core.frame.DataFrame'>\n",
            "RangeIndex: 197428 entries, 0 to 197427\n",
            "Data columns (total 14 columns):\n",
            " #   Column                    Non-Null Count   Dtype  \n",
            "---  ------                    --------------   -----  \n",
            " 0   market_id                 196441 non-null  float64\n",
            " 1   created_at                197428 non-null  object \n",
            " 2   actual_delivery_time      197421 non-null  object \n",
            " 3   store_id                  197428 non-null  object \n",
            " 4   store_primary_category    192668 non-null  object \n",
            " 5   order_protocol            196433 non-null  float64\n",
            " 6   total_items               197428 non-null  int64  \n",
            " 7   subtotal                  197428 non-null  int64  \n",
            " 8   num_distinct_items        197428 non-null  int64  \n",
            " 9   min_item_price            197428 non-null  int64  \n",
            " 10  max_item_price            197428 non-null  int64  \n",
            " 11  total_onshift_partners    181166 non-null  float64\n",
            " 12  total_busy_partners       181166 non-null  float64\n",
            " 13  total_outstanding_orders  181166 non-null  float64\n",
            "dtypes: float64(5), int64(5), object(4)\n",
            "memory usage: 21.1+ MB\n"
          ]
        }
      ],
      "source": [
        "data.info()"
      ]
    },
    {
      "cell_type": "code",
      "execution_count": null,
      "metadata": {
        "colab": {
          "base_uri": "https://localhost:8080/"
        },
        "id": "3OMkc5O_wI_j",
        "outputId": "cba2d6d5-67a8-4bb5-b454-e9aac46055c4"
      },
      "outputs": [
        {
          "data": {
            "text/plain": [
              "market_id                     987\n",
              "created_at                      0\n",
              "actual_delivery_time            7\n",
              "store_id                        0\n",
              "store_primary_category       4760\n",
              "order_protocol                995\n",
              "total_items                     0\n",
              "subtotal                        0\n",
              "num_distinct_items              0\n",
              "min_item_price                  0\n",
              "max_item_price                  0\n",
              "total_onshift_partners      16262\n",
              "total_busy_partners         16262\n",
              "total_outstanding_orders    16262\n",
              "dtype: int64"
            ]
          },
          "execution_count": 8,
          "metadata": {},
          "output_type": "execute_result"
        }
      ],
      "source": [
        "data.isna().sum(axis=0)"
      ]
    },
    {
      "cell_type": "code",
      "execution_count": null,
      "metadata": {
        "id": "Dl7tLTy61XpG"
      },
      "outputs": [],
      "source": [
        "data = data[~data['actual_delivery_time'].isna()]\n",
        "# drop the rows where delivery time is not available."
      ]
    },
    {
      "cell_type": "markdown",
      "metadata": {
        "id": "6ae6Ub5gzyY7"
      },
      "source": [
        "## Let's create the target column"
      ]
    },
    {
      "cell_type": "code",
      "execution_count": null,
      "metadata": {
        "id": "MQoMW0STztVK"
      },
      "outputs": [],
      "source": [
        "data['created_at'] = pd.to_datetime(data['created_at'])\n",
        "data['actual_delivery_time'] = pd.to_datetime(data['actual_delivery_time'])"
      ]
    },
    {
      "cell_type": "code",
      "execution_count": null,
      "metadata": {
        "id": "ohcze-0l0QUu"
      },
      "outputs": [],
      "source": [
        "data['time'] = round((data['actual_delivery_time'] - data['created_at']).dt.total_seconds()/60,2)"
      ]
    },
    {
      "cell_type": "code",
      "execution_count": null,
      "metadata": {
        "colab": {
          "base_uri": "https://localhost:8080/",
          "height": 313
        },
        "id": "V-bgirJ20e6o",
        "outputId": "4edc464d-f483-42b4-bf91-4ced124a1dbc"
      },
      "outputs": [
        {
          "data": {
            "text/html": [
              "\n",
              "  <div id=\"df-54fee4e0-58fb-4ec0-b566-c46ae1661fd1\" class=\"colab-df-container\">\n",
              "    <div>\n",
              "<style scoped>\n",
              "    .dataframe tbody tr th:only-of-type {\n",
              "        vertical-align: middle;\n",
              "    }\n",
              "\n",
              "    .dataframe tbody tr th {\n",
              "        vertical-align: top;\n",
              "    }\n",
              "\n",
              "    .dataframe thead th {\n",
              "        text-align: right;\n",
              "    }\n",
              "</style>\n",
              "<table border=\"1\" class=\"dataframe\">\n",
              "  <thead>\n",
              "    <tr style=\"text-align: right;\">\n",
              "      <th></th>\n",
              "      <th>market_id</th>\n",
              "      <th>created_at</th>\n",
              "      <th>actual_delivery_time</th>\n",
              "      <th>store_id</th>\n",
              "      <th>store_primary_category</th>\n",
              "      <th>order_protocol</th>\n",
              "      <th>total_items</th>\n",
              "      <th>subtotal</th>\n",
              "      <th>num_distinct_items</th>\n",
              "      <th>min_item_price</th>\n",
              "      <th>max_item_price</th>\n",
              "      <th>total_onshift_partners</th>\n",
              "      <th>total_busy_partners</th>\n",
              "      <th>total_outstanding_orders</th>\n",
              "      <th>time</th>\n",
              "    </tr>\n",
              "  </thead>\n",
              "  <tbody>\n",
              "    <tr>\n",
              "      <th>0</th>\n",
              "      <td>1.0</td>\n",
              "      <td>2015-02-06 22:24:17</td>\n",
              "      <td>2015-02-06 23:27:16</td>\n",
              "      <td>df263d996281d984952c07998dc54358</td>\n",
              "      <td>american</td>\n",
              "      <td>1.0</td>\n",
              "      <td>4</td>\n",
              "      <td>3441</td>\n",
              "      <td>4</td>\n",
              "      <td>557</td>\n",
              "      <td>1239</td>\n",
              "      <td>33.0</td>\n",
              "      <td>14.0</td>\n",
              "      <td>21.0</td>\n",
              "      <td>62.98</td>\n",
              "    </tr>\n",
              "    <tr>\n",
              "      <th>1</th>\n",
              "      <td>2.0</td>\n",
              "      <td>2015-02-10 21:49:25</td>\n",
              "      <td>2015-02-10 22:56:29</td>\n",
              "      <td>f0ade77b43923b38237db569b016ba25</td>\n",
              "      <td>mexican</td>\n",
              "      <td>2.0</td>\n",
              "      <td>1</td>\n",
              "      <td>1900</td>\n",
              "      <td>1</td>\n",
              "      <td>1400</td>\n",
              "      <td>1400</td>\n",
              "      <td>1.0</td>\n",
              "      <td>2.0</td>\n",
              "      <td>2.0</td>\n",
              "      <td>67.07</td>\n",
              "    </tr>\n",
              "    <tr>\n",
              "      <th>2</th>\n",
              "      <td>3.0</td>\n",
              "      <td>2015-01-22 20:39:28</td>\n",
              "      <td>2015-01-22 21:09:09</td>\n",
              "      <td>f0ade77b43923b38237db569b016ba25</td>\n",
              "      <td>NaN</td>\n",
              "      <td>1.0</td>\n",
              "      <td>1</td>\n",
              "      <td>1900</td>\n",
              "      <td>1</td>\n",
              "      <td>1900</td>\n",
              "      <td>1900</td>\n",
              "      <td>1.0</td>\n",
              "      <td>0.0</td>\n",
              "      <td>0.0</td>\n",
              "      <td>29.68</td>\n",
              "    </tr>\n",
              "    <tr>\n",
              "      <th>3</th>\n",
              "      <td>3.0</td>\n",
              "      <td>2015-02-03 21:21:45</td>\n",
              "      <td>2015-02-03 22:13:00</td>\n",
              "      <td>f0ade77b43923b38237db569b016ba25</td>\n",
              "      <td>NaN</td>\n",
              "      <td>1.0</td>\n",
              "      <td>6</td>\n",
              "      <td>6900</td>\n",
              "      <td>5</td>\n",
              "      <td>600</td>\n",
              "      <td>1800</td>\n",
              "      <td>1.0</td>\n",
              "      <td>1.0</td>\n",
              "      <td>2.0</td>\n",
              "      <td>51.25</td>\n",
              "    </tr>\n",
              "    <tr>\n",
              "      <th>4</th>\n",
              "      <td>3.0</td>\n",
              "      <td>2015-02-15 02:40:36</td>\n",
              "      <td>2015-02-15 03:20:26</td>\n",
              "      <td>f0ade77b43923b38237db569b016ba25</td>\n",
              "      <td>NaN</td>\n",
              "      <td>1.0</td>\n",
              "      <td>3</td>\n",
              "      <td>3900</td>\n",
              "      <td>3</td>\n",
              "      <td>1100</td>\n",
              "      <td>1600</td>\n",
              "      <td>6.0</td>\n",
              "      <td>6.0</td>\n",
              "      <td>9.0</td>\n",
              "      <td>39.83</td>\n",
              "    </tr>\n",
              "  </tbody>\n",
              "</table>\n",
              "</div>\n",
              "    <div class=\"colab-df-buttons\">\n",
              "\n",
              "  <div class=\"colab-df-container\">\n",
              "    <button class=\"colab-df-convert\" onclick=\"convertToInteractive('df-54fee4e0-58fb-4ec0-b566-c46ae1661fd1')\"\n",
              "            title=\"Convert this dataframe to an interactive table.\"\n",
              "            style=\"display:none;\">\n",
              "\n",
              "  <svg xmlns=\"http://www.w3.org/2000/svg\" height=\"24px\" viewBox=\"0 -960 960 960\">\n",
              "    <path d=\"M120-120v-720h720v720H120Zm60-500h600v-160H180v160Zm220 220h160v-160H400v160Zm0 220h160v-160H400v160ZM180-400h160v-160H180v160Zm440 0h160v-160H620v160ZM180-180h160v-160H180v160Zm440 0h160v-160H620v160Z\"/>\n",
              "  </svg>\n",
              "    </button>\n",
              "\n",
              "  <style>\n",
              "    .colab-df-container {\n",
              "      display:flex;\n",
              "      gap: 12px;\n",
              "    }\n",
              "\n",
              "    .colab-df-convert {\n",
              "      background-color: #E8F0FE;\n",
              "      border: none;\n",
              "      border-radius: 50%;\n",
              "      cursor: pointer;\n",
              "      display: none;\n",
              "      fill: #1967D2;\n",
              "      height: 32px;\n",
              "      padding: 0 0 0 0;\n",
              "      width: 32px;\n",
              "    }\n",
              "\n",
              "    .colab-df-convert:hover {\n",
              "      background-color: #E2EBFA;\n",
              "      box-shadow: 0px 1px 2px rgba(60, 64, 67, 0.3), 0px 1px 3px 1px rgba(60, 64, 67, 0.15);\n",
              "      fill: #174EA6;\n",
              "    }\n",
              "\n",
              "    .colab-df-buttons div {\n",
              "      margin-bottom: 4px;\n",
              "    }\n",
              "\n",
              "    [theme=dark] .colab-df-convert {\n",
              "      background-color: #3B4455;\n",
              "      fill: #D2E3FC;\n",
              "    }\n",
              "\n",
              "    [theme=dark] .colab-df-convert:hover {\n",
              "      background-color: #434B5C;\n",
              "      box-shadow: 0px 1px 3px 1px rgba(0, 0, 0, 0.15);\n",
              "      filter: drop-shadow(0px 1px 2px rgba(0, 0, 0, 0.3));\n",
              "      fill: #FFFFFF;\n",
              "    }\n",
              "  </style>\n",
              "\n",
              "    <script>\n",
              "      const buttonEl =\n",
              "        document.querySelector('#df-54fee4e0-58fb-4ec0-b566-c46ae1661fd1 button.colab-df-convert');\n",
              "      buttonEl.style.display =\n",
              "        google.colab.kernel.accessAllowed ? 'block' : 'none';\n",
              "\n",
              "      async function convertToInteractive(key) {\n",
              "        const element = document.querySelector('#df-54fee4e0-58fb-4ec0-b566-c46ae1661fd1');\n",
              "        const dataTable =\n",
              "          await google.colab.kernel.invokeFunction('convertToInteractive',\n",
              "                                                    [key], {});\n",
              "        if (!dataTable) return;\n",
              "\n",
              "        const docLinkHtml = 'Like what you see? Visit the ' +\n",
              "          '<a target=\"_blank\" href=https://colab.research.google.com/notebooks/data_table.ipynb>data table notebook</a>'\n",
              "          + ' to learn more about interactive tables.';\n",
              "        element.innerHTML = '';\n",
              "        dataTable['output_type'] = 'display_data';\n",
              "        await google.colab.output.renderOutput(dataTable, element);\n",
              "        const docLink = document.createElement('div');\n",
              "        docLink.innerHTML = docLinkHtml;\n",
              "        element.appendChild(docLink);\n",
              "      }\n",
              "    </script>\n",
              "  </div>\n",
              "\n",
              "\n",
              "<div id=\"df-96fc3fb6-f765-4e08-99f1-53903cf97961\">\n",
              "  <button class=\"colab-df-quickchart\" onclick=\"quickchart('df-96fc3fb6-f765-4e08-99f1-53903cf97961')\"\n",
              "            title=\"Suggest charts\"\n",
              "            style=\"display:none;\">\n",
              "\n",
              "<svg xmlns=\"http://www.w3.org/2000/svg\" height=\"24px\"viewBox=\"0 0 24 24\"\n",
              "     width=\"24px\">\n",
              "    <g>\n",
              "        <path d=\"M19 3H5c-1.1 0-2 .9-2 2v14c0 1.1.9 2 2 2h14c1.1 0 2-.9 2-2V5c0-1.1-.9-2-2-2zM9 17H7v-7h2v7zm4 0h-2V7h2v10zm4 0h-2v-4h2v4z\"/>\n",
              "    </g>\n",
              "</svg>\n",
              "  </button>\n",
              "\n",
              "<style>\n",
              "  .colab-df-quickchart {\n",
              "      --bg-color: #E8F0FE;\n",
              "      --fill-color: #1967D2;\n",
              "      --hover-bg-color: #E2EBFA;\n",
              "      --hover-fill-color: #174EA6;\n",
              "      --disabled-fill-color: #AAA;\n",
              "      --disabled-bg-color: #DDD;\n",
              "  }\n",
              "\n",
              "  [theme=dark] .colab-df-quickchart {\n",
              "      --bg-color: #3B4455;\n",
              "      --fill-color: #D2E3FC;\n",
              "      --hover-bg-color: #434B5C;\n",
              "      --hover-fill-color: #FFFFFF;\n",
              "      --disabled-bg-color: #3B4455;\n",
              "      --disabled-fill-color: #666;\n",
              "  }\n",
              "\n",
              "  .colab-df-quickchart {\n",
              "    background-color: var(--bg-color);\n",
              "    border: none;\n",
              "    border-radius: 50%;\n",
              "    cursor: pointer;\n",
              "    display: none;\n",
              "    fill: var(--fill-color);\n",
              "    height: 32px;\n",
              "    padding: 0;\n",
              "    width: 32px;\n",
              "  }\n",
              "\n",
              "  .colab-df-quickchart:hover {\n",
              "    background-color: var(--hover-bg-color);\n",
              "    box-shadow: 0 1px 2px rgba(60, 64, 67, 0.3), 0 1px 3px 1px rgba(60, 64, 67, 0.15);\n",
              "    fill: var(--button-hover-fill-color);\n",
              "  }\n",
              "\n",
              "  .colab-df-quickchart-complete:disabled,\n",
              "  .colab-df-quickchart-complete:disabled:hover {\n",
              "    background-color: var(--disabled-bg-color);\n",
              "    fill: var(--disabled-fill-color);\n",
              "    box-shadow: none;\n",
              "  }\n",
              "\n",
              "  .colab-df-spinner {\n",
              "    border: 2px solid var(--fill-color);\n",
              "    border-color: transparent;\n",
              "    border-bottom-color: var(--fill-color);\n",
              "    animation:\n",
              "      spin 1s steps(1) infinite;\n",
              "  }\n",
              "\n",
              "  @keyframes spin {\n",
              "    0% {\n",
              "      border-color: transparent;\n",
              "      border-bottom-color: var(--fill-color);\n",
              "      border-left-color: var(--fill-color);\n",
              "    }\n",
              "    20% {\n",
              "      border-color: transparent;\n",
              "      border-left-color: var(--fill-color);\n",
              "      border-top-color: var(--fill-color);\n",
              "    }\n",
              "    30% {\n",
              "      border-color: transparent;\n",
              "      border-left-color: var(--fill-color);\n",
              "      border-top-color: var(--fill-color);\n",
              "      border-right-color: var(--fill-color);\n",
              "    }\n",
              "    40% {\n",
              "      border-color: transparent;\n",
              "      border-right-color: var(--fill-color);\n",
              "      border-top-color: var(--fill-color);\n",
              "    }\n",
              "    60% {\n",
              "      border-color: transparent;\n",
              "      border-right-color: var(--fill-color);\n",
              "    }\n",
              "    80% {\n",
              "      border-color: transparent;\n",
              "      border-right-color: var(--fill-color);\n",
              "      border-bottom-color: var(--fill-color);\n",
              "    }\n",
              "    90% {\n",
              "      border-color: transparent;\n",
              "      border-bottom-color: var(--fill-color);\n",
              "    }\n",
              "  }\n",
              "</style>\n",
              "\n",
              "  <script>\n",
              "    async function quickchart(key) {\n",
              "      const quickchartButtonEl =\n",
              "        document.querySelector('#' + key + ' button');\n",
              "      quickchartButtonEl.disabled = true;  // To prevent multiple clicks.\n",
              "      quickchartButtonEl.classList.add('colab-df-spinner');\n",
              "      try {\n",
              "        const charts = await google.colab.kernel.invokeFunction(\n",
              "            'suggestCharts', [key], {});\n",
              "      } catch (error) {\n",
              "        console.error('Error during call to suggestCharts:', error);\n",
              "      }\n",
              "      quickchartButtonEl.classList.remove('colab-df-spinner');\n",
              "      quickchartButtonEl.classList.add('colab-df-quickchart-complete');\n",
              "    }\n",
              "    (() => {\n",
              "      let quickchartButtonEl =\n",
              "        document.querySelector('#df-96fc3fb6-f765-4e08-99f1-53903cf97961 button');\n",
              "      quickchartButtonEl.style.display =\n",
              "        google.colab.kernel.accessAllowed ? 'block' : 'none';\n",
              "    })();\n",
              "  </script>\n",
              "</div>\n",
              "\n",
              "    </div>\n",
              "  </div>\n"
            ],
            "text/plain": [
              "   market_id          created_at actual_delivery_time  \\\n",
              "0        1.0 2015-02-06 22:24:17  2015-02-06 23:27:16   \n",
              "1        2.0 2015-02-10 21:49:25  2015-02-10 22:56:29   \n",
              "2        3.0 2015-01-22 20:39:28  2015-01-22 21:09:09   \n",
              "3        3.0 2015-02-03 21:21:45  2015-02-03 22:13:00   \n",
              "4        3.0 2015-02-15 02:40:36  2015-02-15 03:20:26   \n",
              "\n",
              "                           store_id store_primary_category  order_protocol  \\\n",
              "0  df263d996281d984952c07998dc54358               american             1.0   \n",
              "1  f0ade77b43923b38237db569b016ba25                mexican             2.0   \n",
              "2  f0ade77b43923b38237db569b016ba25                    NaN             1.0   \n",
              "3  f0ade77b43923b38237db569b016ba25                    NaN             1.0   \n",
              "4  f0ade77b43923b38237db569b016ba25                    NaN             1.0   \n",
              "\n",
              "   total_items  subtotal  num_distinct_items  min_item_price  max_item_price  \\\n",
              "0            4      3441                   4             557            1239   \n",
              "1            1      1900                   1            1400            1400   \n",
              "2            1      1900                   1            1900            1900   \n",
              "3            6      6900                   5             600            1800   \n",
              "4            3      3900                   3            1100            1600   \n",
              "\n",
              "   total_onshift_partners  total_busy_partners  total_outstanding_orders  \\\n",
              "0                    33.0                 14.0                      21.0   \n",
              "1                     1.0                  2.0                       2.0   \n",
              "2                     1.0                  0.0                       0.0   \n",
              "3                     1.0                  1.0                       2.0   \n",
              "4                     6.0                  6.0                       9.0   \n",
              "\n",
              "    time  \n",
              "0  62.98  \n",
              "1  67.07  \n",
              "2  29.68  \n",
              "3  51.25  \n",
              "4  39.83  "
            ]
          },
          "execution_count": 12,
          "metadata": {},
          "output_type": "execute_result"
        }
      ],
      "source": [
        "data.head()"
      ]
    },
    {
      "cell_type": "markdown",
      "metadata": {
        "id": "soQzlS9S28Du"
      },
      "source": [
        "## Imputing Null values"
      ]
    },
    {
      "cell_type": "code",
      "execution_count": null,
      "metadata": {
        "colab": {
          "base_uri": "https://localhost:8080/"
        },
        "id": "AlTO5tRU3QeM",
        "outputId": "788fe2f7-987a-49ce-d1bd-29e376c4bc4b"
      },
      "outputs": [
        {
          "data": {
            "text/plain": [
              "market_id                     987\n",
              "created_at                      0\n",
              "actual_delivery_time            0\n",
              "store_id                        0\n",
              "store_primary_category       4760\n",
              "order_protocol                995\n",
              "total_items                     0\n",
              "subtotal                        0\n",
              "num_distinct_items              0\n",
              "min_item_price                  0\n",
              "max_item_price                  0\n",
              "total_onshift_partners      16262\n",
              "total_busy_partners         16262\n",
              "total_outstanding_orders    16262\n",
              "time                            0\n",
              "dtype: int64"
            ]
          },
          "execution_count": 13,
          "metadata": {},
          "output_type": "execute_result"
        }
      ],
      "source": [
        "data.isna().sum()"
      ]
    },
    {
      "cell_type": "code",
      "execution_count": null,
      "metadata": {
        "colab": {
          "base_uri": "https://localhost:8080/"
        },
        "id": "upt7tN6k0f46",
        "outputId": "a2649149-3a13-4d18-d67f-76b60fcd7d35"
      },
      "outputs": [
        {
          "data": {
            "text/plain": [
              "2.0    55055\n",
              "4.0    47597\n",
              "1.0    38037\n",
              "3.0    23296\n",
              "5.0    17999\n",
              "6.0    14450\n",
              "Name: market_id, dtype: int64"
            ]
          },
          "execution_count": 14,
          "metadata": {},
          "output_type": "execute_result"
        }
      ],
      "source": [
        "# distribution of market_id\n",
        "\n",
        "data['market_id'].value_counts()"
      ]
    },
    {
      "cell_type": "code",
      "execution_count": null,
      "metadata": {
        "id": "DpXx-Lfb3Gzw"
      },
      "outputs": [],
      "source": [
        "data['market_id'].fillna(2.0, inplace = True)"
      ]
    },
    {
      "cell_type": "code",
      "execution_count": null,
      "metadata": {
        "colab": {
          "base_uri": "https://localhost:8080/"
        },
        "id": "yJqLL3SG4EX1",
        "outputId": "9e30bd26-2da7-4a2e-8be1-94ec78227446"
      },
      "outputs": [
        {
          "data": {
            "text/plain": [
              "american             19399\n",
              "pizza                17320\n",
              "mexican              17098\n",
              "burger               10958\n",
              "sandwich             10059\n",
              "                     ...  \n",
              "lebanese                 9\n",
              "belgian                  2\n",
              "indonesian               2\n",
              "chocolate                1\n",
              "alcohol-plus-food        1\n",
              "Name: store_primary_category, Length: 74, dtype: int64"
            ]
          },
          "execution_count": 16,
          "metadata": {},
          "output_type": "execute_result"
        }
      ],
      "source": [
        "data['store_primary_category'].value_counts()"
      ]
    },
    {
      "cell_type": "code",
      "execution_count": null,
      "metadata": {
        "id": "ijdrUBv34Ngm"
      },
      "outputs": [],
      "source": [
        "data['store_primary_category'] = data['store_primary_category'].fillna('american')"
      ]
    },
    {
      "cell_type": "code",
      "execution_count": null,
      "metadata": {
        "id": "gUf0Sgmi4zwm"
      },
      "outputs": [],
      "source": [
        "data['order_protocol'].fillna(1.0, inplace = True)"
      ]
    },
    {
      "cell_type": "code",
      "execution_count": null,
      "metadata": {
        "colab": {
          "base_uri": "https://localhost:8080/"
        },
        "id": "mGWuFD7I5GAq",
        "outputId": "15c8780f-b991-4457-a052-a01e75b9c484"
      },
      "outputs": [
        {
          "data": {
            "text/plain": [
              "market_id                       0\n",
              "created_at                      0\n",
              "actual_delivery_time            0\n",
              "store_id                        0\n",
              "store_primary_category          0\n",
              "order_protocol                  0\n",
              "total_items                     0\n",
              "subtotal                        0\n",
              "num_distinct_items              0\n",
              "min_item_price                  0\n",
              "max_item_price                  0\n",
              "total_onshift_partners      16262\n",
              "total_busy_partners         16262\n",
              "total_outstanding_orders    16262\n",
              "time                            0\n",
              "dtype: int64"
            ]
          },
          "execution_count": 19,
          "metadata": {},
          "output_type": "execute_result"
        }
      ],
      "source": [
        "data.isna().sum()"
      ]
    },
    {
      "cell_type": "code",
      "execution_count": null,
      "metadata": {
        "colab": {
          "base_uri": "https://localhost:8080/",
          "height": 430
        },
        "id": "8jy6R7tB5OCX",
        "outputId": "09efb901-ba9c-4683-a217-e0c1e03aa01c"
      },
      "outputs": [
        {
          "data": {
            "image/png": "[encoded data removed]",
            "text/plain": [
              "<Figure size 640x480 with 1 Axes>"
            ]
          },
          "metadata": {},
          "output_type": "display_data"
        }
      ],
      "source": [
        "data['total_onshift_partners'].hist()\n",
        "plt.show()"
      ]
    },
    {
      "cell_type": "code",
      "execution_count": null,
      "metadata": {
        "colab": {
          "base_uri": "https://localhost:8080/"
        },
        "id": "NuM26VLQ5XTP",
        "outputId": "f856f452-8728-4e9a-df55-d9a8c1f5810b"
      },
      "outputs": [
        {
          "data": {
            "text/plain": [
              "37.0"
            ]
          },
          "execution_count": 21,
          "metadata": {},
          "output_type": "execute_result"
        }
      ],
      "source": [
        "#median of total_onshift_partners\n",
        "\n",
        "data['total_onshift_partners'].median()"
      ]
    },
    {
      "cell_type": "code",
      "execution_count": null,
      "metadata": {
        "id": "zxysjWRL5oAh"
      },
      "outputs": [],
      "source": [
        "data['total_onshift_partners'].fillna(37.0,inplace = True)"
      ]
    },
    {
      "cell_type": "code",
      "execution_count": null,
      "metadata": {
        "id": "IYOaZAsQ593H"
      },
      "outputs": [],
      "source": [
        "data['total_busy_partners'].fillna(data['total_busy_partners'].median(),inplace = True)"
      ]
    },
    {
      "cell_type": "code",
      "execution_count": null,
      "metadata": {
        "id": "RkV_mX106LLy"
      },
      "outputs": [],
      "source": [
        "data['total_outstanding_orders'].fillna(data['total_outstanding_orders'].median(),inplace = True)"
      ]
    },
    {
      "cell_type": "code",
      "execution_count": null,
      "metadata": {
        "colab": {
          "base_uri": "https://localhost:8080/"
        },
        "id": "MOJw965g6Szx",
        "outputId": "fa3c3bf4-33ec-433d-8a34-cc774c237258"
      },
      "outputs": [
        {
          "data": {
            "text/plain": [
              "market_id                   0\n",
              "created_at                  0\n",
              "actual_delivery_time        0\n",
              "store_id                    0\n",
              "store_primary_category      0\n",
              "order_protocol              0\n",
              "total_items                 0\n",
              "subtotal                    0\n",
              "num_distinct_items          0\n",
              "min_item_price              0\n",
              "max_item_price              0\n",
              "total_onshift_partners      0\n",
              "total_busy_partners         0\n",
              "total_outstanding_orders    0\n",
              "time                        0\n",
              "dtype: int64"
            ]
          },
          "execution_count": 25,
          "metadata": {},
          "output_type": "execute_result"
        }
      ],
      "source": [
        "data.isna().sum()"
      ]
    },
    {
      "cell_type": "markdown",
      "metadata": {
        "id": "sdstsADQ6oOi"
      },
      "source": [
        "## Feature Engineering\n"
      ]
    },
    {
      "cell_type": "code",
      "execution_count": null,
      "metadata": {
        "id": "fYJR7b9a6VZ4"
      },
      "outputs": [],
      "source": [
        "data['hour'] = data['created_at'].dt.hour"
      ]
    },
    {
      "cell_type": "code",
      "execution_count": null,
      "metadata": {
        "id": "bKEnKHSv6_FS"
      },
      "outputs": [],
      "source": [
        "data['day'] = data['created_at'].dt.day_of_week"
      ]
    },
    {
      "cell_type": "code",
      "execution_count": null,
      "metadata": {
        "id": "e214c2Lm77gh"
      },
      "outputs": [],
      "source": [
        "data = data.drop(columns = ['created_at','actual_delivery_time','store_id'])"
      ]
    },
    {
      "cell_type": "code",
      "execution_count": null,
      "metadata": {
        "colab": {
          "base_uri": "https://localhost:8080/",
          "height": 226
        },
        "id": "1MWesH-17FiZ",
        "outputId": "1931b24e-17c2-4369-d4ff-d69aa2431d59"
      },
      "outputs": [
        {
          "data": {
            "text/html": [
              "\n",
              "  <div id=\"df-d93c4d87-dcef-44f8-9744-6107b6f9b2d4\" class=\"colab-df-container\">\n",
              "    <div>\n",
              "<style scoped>\n",
              "    .dataframe tbody tr th:only-of-type {\n",
              "        vertical-align: middle;\n",
              "    }\n",
              "\n",
              "    .dataframe tbody tr th {\n",
              "        vertical-align: top;\n",
              "    }\n",
              "\n",
              "    .dataframe thead th {\n",
              "        text-align: right;\n",
              "    }\n",
              "</style>\n",
              "<table border=\"1\" class=\"dataframe\">\n",
              "  <thead>\n",
              "    <tr style=\"text-align: right;\">\n",
              "      <th></th>\n",
              "      <th>market_id</th>\n",
              "      <th>store_primary_category</th>\n",
              "      <th>order_protocol</th>\n",
              "      <th>total_items</th>\n",
              "      <th>subtotal</th>\n",
              "      <th>num_distinct_items</th>\n",
              "      <th>min_item_price</th>\n",
              "      <th>max_item_price</th>\n",
              "      <th>total_onshift_partners</th>\n",
              "      <th>total_busy_partners</th>\n",
              "      <th>total_outstanding_orders</th>\n",
              "      <th>time</th>\n",
              "      <th>hour</th>\n",
              "      <th>day</th>\n",
              "    </tr>\n",
              "  </thead>\n",
              "  <tbody>\n",
              "    <tr>\n",
              "      <th>0</th>\n",
              "      <td>1.0</td>\n",
              "      <td>american</td>\n",
              "      <td>1.0</td>\n",
              "      <td>4</td>\n",
              "      <td>3441</td>\n",
              "      <td>4</td>\n",
              "      <td>557</td>\n",
              "      <td>1239</td>\n",
              "      <td>33.0</td>\n",
              "      <td>14.0</td>\n",
              "      <td>21.0</td>\n",
              "      <td>62.98</td>\n",
              "      <td>22</td>\n",
              "      <td>4</td>\n",
              "    </tr>\n",
              "    <tr>\n",
              "      <th>1</th>\n",
              "      <td>2.0</td>\n",
              "      <td>mexican</td>\n",
              "      <td>2.0</td>\n",
              "      <td>1</td>\n",
              "      <td>1900</td>\n",
              "      <td>1</td>\n",
              "      <td>1400</td>\n",
              "      <td>1400</td>\n",
              "      <td>1.0</td>\n",
              "      <td>2.0</td>\n",
              "      <td>2.0</td>\n",
              "      <td>67.07</td>\n",
              "      <td>21</td>\n",
              "      <td>1</td>\n",
              "    </tr>\n",
              "    <tr>\n",
              "      <th>2</th>\n",
              "      <td>3.0</td>\n",
              "      <td>american</td>\n",
              "      <td>1.0</td>\n",
              "      <td>1</td>\n",
              "      <td>1900</td>\n",
              "      <td>1</td>\n",
              "      <td>1900</td>\n",
              "      <td>1900</td>\n",
              "      <td>1.0</td>\n",
              "      <td>0.0</td>\n",
              "      <td>0.0</td>\n",
              "      <td>29.68</td>\n",
              "      <td>20</td>\n",
              "      <td>3</td>\n",
              "    </tr>\n",
              "    <tr>\n",
              "      <th>3</th>\n",
              "      <td>3.0</td>\n",
              "      <td>american</td>\n",
              "      <td>1.0</td>\n",
              "      <td>6</td>\n",
              "      <td>6900</td>\n",
              "      <td>5</td>\n",
              "      <td>600</td>\n",
              "      <td>1800</td>\n",
              "      <td>1.0</td>\n",
              "      <td>1.0</td>\n",
              "      <td>2.0</td>\n",
              "      <td>51.25</td>\n",
              "      <td>21</td>\n",
              "      <td>1</td>\n",
              "    </tr>\n",
              "    <tr>\n",
              "      <th>4</th>\n",
              "      <td>3.0</td>\n",
              "      <td>american</td>\n",
              "      <td>1.0</td>\n",
              "      <td>3</td>\n",
              "      <td>3900</td>\n",
              "      <td>3</td>\n",
              "      <td>1100</td>\n",
              "      <td>1600</td>\n",
              "      <td>6.0</td>\n",
              "      <td>6.0</td>\n",
              "      <td>9.0</td>\n",
              "      <td>39.83</td>\n",
              "      <td>2</td>\n",
              "      <td>6</td>\n",
              "    </tr>\n",
              "  </tbody>\n",
              "</table>\n",
              "</div>\n",
              "    <div class=\"colab-df-buttons\">\n",
              "\n",
              "  <div class=\"colab-df-container\">\n",
              "    <button class=\"colab-df-convert\" onclick=\"convertToInteractive('df-d93c4d87-dcef-44f8-9744-6107b6f9b2d4')\"\n",
              "            title=\"Convert this dataframe to an interactive table.\"\n",
              "            style=\"display:none;\">\n",
              "\n",
              "  <svg xmlns=\"http://www.w3.org/2000/svg\" height=\"24px\" viewBox=\"0 -960 960 960\">\n",
              "    <path d=\"M120-120v-720h720v720H120Zm60-500h600v-160H180v160Zm220 220h160v-160H400v160Zm0 220h160v-160H400v160ZM180-400h160v-160H180v160Zm440 0h160v-160H620v160ZM180-180h160v-160H180v160Zm440 0h160v-160H620v160Z\"/>\n",
              "  </svg>\n",
              "    </button>\n",
              "\n",
              "  <style>\n",
              "    .colab-df-container {\n",
              "      display:flex;\n",
              "      gap: 12px;\n",
              "    }\n",
              "\n",
              "    .colab-df-convert {\n",
              "      background-color: #E8F0FE;\n",
              "      border: none;\n",
              "      border-radius: 50%;\n",
              "      cursor: pointer;\n",
              "      display: none;\n",
              "      fill: #1967D2;\n",
              "      height: 32px;\n",
              "      padding: 0 0 0 0;\n",
              "      width: 32px;\n",
              "    }\n",
              "\n",
              "    .colab-df-convert:hover {\n",
              "      background-color: #E2EBFA;\n",
              "      box-shadow: 0px 1px 2px rgba(60, 64, 67, 0.3), 0px 1px 3px 1px rgba(60, 64, 67, 0.15);\n",
              "      fill: #174EA6;\n",
              "    }\n",
              "\n",
              "    .colab-df-buttons div {\n",
              "      margin-bottom: 4px;\n",
              "    }\n",
              "\n",
              "    [theme=dark] .colab-df-convert {\n",
              "      background-color: #3B4455;\n",
              "      fill: #D2E3FC;\n",
              "    }\n",
              "\n",
              "    [theme=dark] .colab-df-convert:hover {\n",
              "      background-color: #434B5C;\n",
              "      box-shadow: 0px 1px 3px 1px rgba(0, 0, 0, 0.15);\n",
              "      filter: drop-shadow(0px 1px 2px rgba(0, 0, 0, 0.3));\n",
              "      fill: #FFFFFF;\n",
              "    }\n",
              "  </style>\n",
              "\n",
              "    <script>\n",
              "      const buttonEl =\n",
              "        document.querySelector('#df-d93c4d87-dcef-44f8-9744-6107b6f9b2d4 button.colab-df-convert');\n",
              "      buttonEl.style.display =\n",
              "        google.colab.kernel.accessAllowed ? 'block' : 'none';\n",
              "\n",
              "      async function convertToInteractive(key) {\n",
              "        const element = document.querySelector('#df-d93c4d87-dcef-44f8-9744-6107b6f9b2d4');\n",
              "        const dataTable =\n",
              "          await google.colab.kernel.invokeFunction('convertToInteractive',\n",
              "                                                    [key], {});\n",
              "        if (!dataTable) return;\n",
              "\n",
              "        const docLinkHtml = 'Like what you see? Visit the ' +\n",
              "          '<a target=\"_blank\" href=https://colab.research.google.com/notebooks/data_table.ipynb>data table notebook</a>'\n",
              "          + ' to learn more about interactive tables.';\n",
              "        element.innerHTML = '';\n",
              "        dataTable['output_type'] = 'display_data';\n",
              "        await google.colab.output.renderOutput(dataTable, element);\n",
              "        const docLink = document.createElement('div');\n",
              "        docLink.innerHTML = docLinkHtml;\n",
              "        element.appendChild(docLink);\n",
              "      }\n",
              "    </script>\n",
              "  </div>\n",
              "\n",
              "\n",
              "<div id=\"df-0e57c650-0f9c-4fde-a058-2acdf6784a4d\">\n",
              "  <button class=\"colab-df-quickchart\" onclick=\"quickchart('df-0e57c650-0f9c-4fde-a058-2acdf6784a4d')\"\n",
              "            title=\"Suggest charts\"\n",
              "            style=\"display:none;\">\n",
              "\n",
              "<svg xmlns=\"http://www.w3.org/2000/svg\" height=\"24px\"viewBox=\"0 0 24 24\"\n",
              "     width=\"24px\">\n",
              "    <g>\n",
              "        <path d=\"M19 3H5c-1.1 0-2 .9-2 2v14c0 1.1.9 2 2 2h14c1.1 0 2-.9 2-2V5c0-1.1-.9-2-2-2zM9 17H7v-7h2v7zm4 0h-2V7h2v10zm4 0h-2v-4h2v4z\"/>\n",
              "    </g>\n",
              "</svg>\n",
              "  </button>\n",
              "\n",
              "<style>\n",
              "  .colab-df-quickchart {\n",
              "      --bg-color: #E8F0FE;\n",
              "      --fill-color: #1967D2;\n",
              "      --hover-bg-color: #E2EBFA;\n",
              "      --hover-fill-color: #174EA6;\n",
              "      --disabled-fill-color: #AAA;\n",
              "      --disabled-bg-color: #DDD;\n",
              "  }\n",
              "\n",
              "  [theme=dark] .colab-df-quickchart {\n",
              "      --bg-color: #3B4455;\n",
              "      --fill-color: #D2E3FC;\n",
              "      --hover-bg-color: #434B5C;\n",
              "      --hover-fill-color: #FFFFFF;\n",
              "      --disabled-bg-color: #3B4455;\n",
              "      --disabled-fill-color: #666;\n",
              "  }\n",
              "\n",
              "  .colab-df-quickchart {\n",
              "    background-color: var(--bg-color);\n",
              "    border: none;\n",
              "    border-radius: 50%;\n",
              "    cursor: pointer;\n",
              "    display: none;\n",
              "    fill: var(--fill-color);\n",
              "    height: 32px;\n",
              "    padding: 0;\n",
              "    width: 32px;\n",
              "  }\n",
              "\n",
              "  .colab-df-quickchart:hover {\n",
              "    background-color: var(--hover-bg-color);\n",
              "    box-shadow: 0 1px 2px rgba(60, 64, 67, 0.3), 0 1px 3px 1px rgba(60, 64, 67, 0.15);\n",
              "    fill: var(--button-hover-fill-color);\n",
              "  }\n",
              "\n",
              "  .colab-df-quickchart-complete:disabled,\n",
              "  .colab-df-quickchart-complete:disabled:hover {\n",
              "    background-color: var(--disabled-bg-color);\n",
              "    fill: var(--disabled-fill-color);\n",
              "    box-shadow: none;\n",
              "  }\n",
              "\n",
              "  .colab-df-spinner {\n",
              "    border: 2px solid var(--fill-color);\n",
              "    border-color: transparent;\n",
              "    border-bottom-color: var(--fill-color);\n",
              "    animation:\n",
              "      spin 1s steps(1) infinite;\n",
              "  }\n",
              "\n",
              "  @keyframes spin {\n",
              "    0% {\n",
              "      border-color: transparent;\n",
              "      border-bottom-color: var(--fill-color);\n",
              "      border-left-color: var(--fill-color);\n",
              "    }\n",
              "    20% {\n",
              "      border-color: transparent;\n",
              "      border-left-color: var(--fill-color);\n",
              "      border-top-color: var(--fill-color);\n",
              "    }\n",
              "    30% {\n",
              "      border-color: transparent;\n",
              "      border-left-color: var(--fill-color);\n",
              "      border-top-color: var(--fill-color);\n",
              "      border-right-color: var(--fill-color);\n",
              "    }\n",
              "    40% {\n",
              "      border-color: transparent;\n",
              "      border-right-color: var(--fill-color);\n",
              "      border-top-color: var(--fill-color);\n",
              "    }\n",
              "    60% {\n",
              "      border-color: transparent;\n",
              "      border-right-color: var(--fill-color);\n",
              "    }\n",
              "    80% {\n",
              "      border-color: transparent;\n",
              "      border-right-color: var(--fill-color);\n",
              "      border-bottom-color: var(--fill-color);\n",
              "    }\n",
              "    90% {\n",
              "      border-color: transparent;\n",
              "      border-bottom-color: var(--fill-color);\n",
              "    }\n",
              "  }\n",
              "</style>\n",
              "\n",
              "  <script>\n",
              "    async function quickchart(key) {\n",
              "      const quickchartButtonEl =\n",
              "        document.querySelector('#' + key + ' button');\n",
              "      quickchartButtonEl.disabled = true;  // To prevent multiple clicks.\n",
              "      quickchartButtonEl.classList.add('colab-df-spinner');\n",
              "      try {\n",
              "        const charts = await google.colab.kernel.invokeFunction(\n",
              "            'suggestCharts', [key], {});\n",
              "      } catch (error) {\n",
              "        console.error('Error during call to suggestCharts:', error);\n",
              "      }\n",
              "      quickchartButtonEl.classList.remove('colab-df-spinner');\n",
              "      quickchartButtonEl.classList.add('colab-df-quickchart-complete');\n",
              "    }\n",
              "    (() => {\n",
              "      let quickchartButtonEl =\n",
              "        document.querySelector('#df-0e57c650-0f9c-4fde-a058-2acdf6784a4d button');\n",
              "      quickchartButtonEl.style.display =\n",
              "        google.colab.kernel.accessAllowed ? 'block' : 'none';\n",
              "    })();\n",
              "  </script>\n",
              "</div>\n",
              "\n",
              "    </div>\n",
              "  </div>\n"
            ],
            "text/plain": [
              "   market_id store_primary_category  order_protocol  total_items  subtotal  \\\n",
              "0        1.0               american             1.0            4      3441   \n",
              "1        2.0                mexican             2.0            1      1900   \n",
              "2        3.0               american             1.0            1      1900   \n",
              "3        3.0               american             1.0            6      6900   \n",
              "4        3.0               american             1.0            3      3900   \n",
              "\n",
              "   num_distinct_items  min_item_price  max_item_price  total_onshift_partners  \\\n",
              "0                   4             557            1239                    33.0   \n",
              "1                   1            1400            1400                     1.0   \n",
              "2                   1            1900            1900                     1.0   \n",
              "3                   5             600            1800                     1.0   \n",
              "4                   3            1100            1600                     6.0   \n",
              "\n",
              "   total_busy_partners  total_outstanding_orders   time  hour  day  \n",
              "0                 14.0                      21.0  62.98    22    4  \n",
              "1                  2.0                       2.0  67.07    21    1  \n",
              "2                  0.0                       0.0  29.68    20    3  \n",
              "3                  1.0                       2.0  51.25    21    1  \n",
              "4                  6.0                       9.0  39.83     2    6  "
            ]
          },
          "execution_count": 29,
          "metadata": {},
          "output_type": "execute_result"
        }
      ],
      "source": [
        "data.head()"
      ]
    },
    {
      "cell_type": "code",
      "execution_count": null,
      "metadata": {
        "colab": {
          "base_uri": "https://localhost:8080/",
          "height": 1000
        },
        "id": "NOlGJv2aIIEq",
        "outputId": "4a060481-67a8-4362-be55-97f4e1c80d08"
      },
      "outputs": [
        {
          "data": {
            "text/plain": [
              "<Axes: >"
            ]
          },
          "execution_count": 30,
          "metadata": {},
          "output_type": "execute_result"
        },
        {
          "data": {
            "image/png": "[encoded data removed]",
            "text/plain": [
              "<Figure size 1000x1000 with 2 Axes>"
            ]
          },
          "metadata": {},
          "output_type": "display_data"
        }
      ],
      "source": [
        "plt.figure(figsize = (10,10))\n",
        "sbn.heatmap(data.corr(), annot = True)"
      ]
    },
    {
      "cell_type": "code",
      "execution_count": null,
      "metadata": {
        "id": "q6m6u_GdLOMT"
      },
      "outputs": [],
      "source": [
        "from sklearn.preprocessing import LabelEncoder"
      ]
    },
    {
      "cell_type": "code",
      "execution_count": null,
      "metadata": {
        "id": "wsJhmIunLW3U"
      },
      "outputs": [],
      "source": [
        "data['store_primary_category'] = LabelEncoder().fit_transform(data['store_primary_category'])"
      ]
    },
    {
      "cell_type": "code",
      "execution_count": null,
      "metadata": {
        "colab": {
          "base_uri": "https://localhost:8080/",
          "height": 226
        },
        "id": "D_BH9wRFLjnL",
        "outputId": "4b0e3b40-5486-4276-ede7-d638aabcbc9e"
      },
      "outputs": [
        {
          "data": {
            "text/html": [
              "\n",
              "  <div id=\"df-88fa64e2-3725-46ca-b94e-832679bdd383\" class=\"colab-df-container\">\n",
              "    <div>\n",
              "<style scoped>\n",
              "    .dataframe tbody tr th:only-of-type {\n",
              "        vertical-align: middle;\n",
              "    }\n",
              "\n",
              "    .dataframe tbody tr th {\n",
              "        vertical-align: top;\n",
              "    }\n",
              "\n",
              "    .dataframe thead th {\n",
              "        text-align: right;\n",
              "    }\n",
              "</style>\n",
              "<table border=\"1\" class=\"dataframe\">\n",
              "  <thead>\n",
              "    <tr style=\"text-align: right;\">\n",
              "      <th></th>\n",
              "      <th>market_id</th>\n",
              "      <th>store_primary_category</th>\n",
              "      <th>order_protocol</th>\n",
              "      <th>total_items</th>\n",
              "      <th>subtotal</th>\n",
              "      <th>num_distinct_items</th>\n",
              "      <th>min_item_price</th>\n",
              "      <th>max_item_price</th>\n",
              "      <th>total_onshift_partners</th>\n",
              "      <th>total_busy_partners</th>\n",
              "      <th>total_outstanding_orders</th>\n",
              "      <th>time</th>\n",
              "      <th>hour</th>\n",
              "      <th>day</th>\n",
              "    </tr>\n",
              "  </thead>\n",
              "  <tbody>\n",
              "    <tr>\n",
              "      <th>0</th>\n",
              "      <td>1.0</td>\n",
              "      <td>4</td>\n",
              "      <td>1.0</td>\n",
              "      <td>4</td>\n",
              "      <td>3441</td>\n",
              "      <td>4</td>\n",
              "      <td>557</td>\n",
              "      <td>1239</td>\n",
              "      <td>33.0</td>\n",
              "      <td>14.0</td>\n",
              "      <td>21.0</td>\n",
              "      <td>62.98</td>\n",
              "      <td>22</td>\n",
              "      <td>4</td>\n",
              "    </tr>\n",
              "    <tr>\n",
              "      <th>1</th>\n",
              "      <td>2.0</td>\n",
              "      <td>47</td>\n",
              "      <td>2.0</td>\n",
              "      <td>1</td>\n",
              "      <td>1900</td>\n",
              "      <td>1</td>\n",
              "      <td>1400</td>\n",
              "      <td>1400</td>\n",
              "      <td>1.0</td>\n",
              "      <td>2.0</td>\n",
              "      <td>2.0</td>\n",
              "      <td>67.07</td>\n",
              "      <td>21</td>\n",
              "      <td>1</td>\n",
              "    </tr>\n",
              "    <tr>\n",
              "      <th>2</th>\n",
              "      <td>3.0</td>\n",
              "      <td>4</td>\n",
              "      <td>1.0</td>\n",
              "      <td>1</td>\n",
              "      <td>1900</td>\n",
              "      <td>1</td>\n",
              "      <td>1900</td>\n",
              "      <td>1900</td>\n",
              "      <td>1.0</td>\n",
              "      <td>0.0</td>\n",
              "      <td>0.0</td>\n",
              "      <td>29.68</td>\n",
              "      <td>20</td>\n",
              "      <td>3</td>\n",
              "    </tr>\n",
              "    <tr>\n",
              "      <th>3</th>\n",
              "      <td>3.0</td>\n",
              "      <td>4</td>\n",
              "      <td>1.0</td>\n",
              "      <td>6</td>\n",
              "      <td>6900</td>\n",
              "      <td>5</td>\n",
              "      <td>600</td>\n",
              "      <td>1800</td>\n",
              "      <td>1.0</td>\n",
              "      <td>1.0</td>\n",
              "      <td>2.0</td>\n",
              "      <td>51.25</td>\n",
              "      <td>21</td>\n",
              "      <td>1</td>\n",
              "    </tr>\n",
              "    <tr>\n",
              "      <th>4</th>\n",
              "      <td>3.0</td>\n",
              "      <td>4</td>\n",
              "      <td>1.0</td>\n",
              "      <td>3</td>\n",
              "      <td>3900</td>\n",
              "      <td>3</td>\n",
              "      <td>1100</td>\n",
              "      <td>1600</td>\n",
              "      <td>6.0</td>\n",
              "      <td>6.0</td>\n",
              "      <td>9.0</td>\n",
              "      <td>39.83</td>\n",
              "      <td>2</td>\n",
              "      <td>6</td>\n",
              "    </tr>\n",
              "  </tbody>\n",
              "</table>\n",
              "</div>\n",
              "    <div class=\"colab-df-buttons\">\n",
              "\n",
              "  <div class=\"colab-df-container\">\n",
              "    <button class=\"colab-df-convert\" onclick=\"convertToInteractive('df-88fa64e2-3725-46ca-b94e-832679bdd383')\"\n",
              "            title=\"Convert this dataframe to an interactive table.\"\n",
              "            style=\"display:none;\">\n",
              "\n",
              "  <svg xmlns=\"http://www.w3.org/2000/svg\" height=\"24px\" viewBox=\"0 -960 960 960\">\n",
              "    <path d=\"M120-120v-720h720v720H120Zm60-500h600v-160H180v160Zm220 220h160v-160H400v160Zm0 220h160v-160H400v160ZM180-400h160v-160H180v160Zm440 0h160v-160H620v160ZM180-180h160v-160H180v160Zm440 0h160v-160H620v160Z\"/>\n",
              "  </svg>\n",
              "    </button>\n",
              "\n",
              "  <style>\n",
              "    .colab-df-container {\n",
              "      display:flex;\n",
              "      gap: 12px;\n",
              "    }\n",
              "\n",
              "    .colab-df-convert {\n",
              "      background-color: #E8F0FE;\n",
              "      border: none;\n",
              "      border-radius: 50%;\n",
              "      cursor: pointer;\n",
              "      display: none;\n",
              "      fill: #1967D2;\n",
              "      height: 32px;\n",
              "      padding: 0 0 0 0;\n",
              "      width: 32px;\n",
              "    }\n",
              "\n",
              "    .colab-df-convert:hover {\n",
              "      background-color: #E2EBFA;\n",
              "      box-shadow: 0px 1px 2px rgba(60, 64, 67, 0.3), 0px 1px 3px 1px rgba(60, 64, 67, 0.15);\n",
              "      fill: #174EA6;\n",
              "    }\n",
              "\n",
              "    .colab-df-buttons div {\n",
              "      margin-bottom: 4px;\n",
              "    }\n",
              "\n",
              "    [theme=dark] .colab-df-convert {\n",
              "      background-color: #3B4455;\n",
              "      fill: #D2E3FC;\n",
              "    }\n",
              "\n",
              "    [theme=dark] .colab-df-convert:hover {\n",
              "      background-color: #434B5C;\n",
              "      box-shadow: 0px 1px 3px 1px rgba(0, 0, 0, 0.15);\n",
              "      filter: drop-shadow(0px 1px 2px rgba(0, 0, 0, 0.3));\n",
              "      fill: #FFFFFF;\n",
              "    }\n",
              "  </style>\n",
              "\n",
              "    <script>\n",
              "      const buttonEl =\n",
              "        document.querySelector('#df-88fa64e2-3725-46ca-b94e-832679bdd383 button.colab-df-convert');\n",
              "      buttonEl.style.display =\n",
              "        google.colab.kernel.accessAllowed ? 'block' : 'none';\n",
              "\n",
              "      async function convertToInteractive(key) {\n",
              "        const element = document.querySelector('#df-88fa64e2-3725-46ca-b94e-832679bdd383');\n",
              "        const dataTable =\n",
              "          await google.colab.kernel.invokeFunction('convertToInteractive',\n",
              "                                                    [key], {});\n",
              "        if (!dataTable) return;\n",
              "\n",
              "        const docLinkHtml = 'Like what you see? Visit the ' +\n",
              "          '<a target=\"_blank\" href=https://colab.research.google.com/notebooks/data_table.ipynb>data table notebook</a>'\n",
              "          + ' to learn more about interactive tables.';\n",
              "        element.innerHTML = '';\n",
              "        dataTable['output_type'] = 'display_data';\n",
              "        await google.colab.output.renderOutput(dataTable, element);\n",
              "        const docLink = document.createElement('div');\n",
              "        docLink.innerHTML = docLinkHtml;\n",
              "        element.appendChild(docLink);\n",
              "      }\n",
              "    </script>\n",
              "  </div>\n",
              "\n",
              "\n",
              "<div id=\"df-1963a49f-af50-4974-932a-a08c4b57eb0d\">\n",
              "  <button class=\"colab-df-quickchart\" onclick=\"quickchart('df-1963a49f-af50-4974-932a-a08c4b57eb0d')\"\n",
              "            title=\"Suggest charts\"\n",
              "            style=\"display:none;\">\n",
              "\n",
              "<svg xmlns=\"http://www.w3.org/2000/svg\" height=\"24px\"viewBox=\"0 0 24 24\"\n",
              "     width=\"24px\">\n",
              "    <g>\n",
              "        <path d=\"M19 3H5c-1.1 0-2 .9-2 2v14c0 1.1.9 2 2 2h14c1.1 0 2-.9 2-2V5c0-1.1-.9-2-2-2zM9 17H7v-7h2v7zm4 0h-2V7h2v10zm4 0h-2v-4h2v4z\"/>\n",
              "    </g>\n",
              "</svg>\n",
              "  </button>\n",
              "\n",
              "<style>\n",
              "  .colab-df-quickchart {\n",
              "      --bg-color: #E8F0FE;\n",
              "      --fill-color: #1967D2;\n",
              "      --hover-bg-color: #E2EBFA;\n",
              "      --hover-fill-color: #174EA6;\n",
              "      --disabled-fill-color: #AAA;\n",
              "      --disabled-bg-color: #DDD;\n",
              "  }\n",
              "\n",
              "  [theme=dark] .colab-df-quickchart {\n",
              "      --bg-color: #3B4455;\n",
              "      --fill-color: #D2E3FC;\n",
              "      --hover-bg-color: #434B5C;\n",
              "      --hover-fill-color: #FFFFFF;\n",
              "      --disabled-bg-color: #3B4455;\n",
              "      --disabled-fill-color: #666;\n",
              "  }\n",
              "\n",
              "  .colab-df-quickchart {\n",
              "    background-color: var(--bg-color);\n",
              "    border: none;\n",
              "    border-radius: 50%;\n",
              "    cursor: pointer;\n",
              "    display: none;\n",
              "    fill: var(--fill-color);\n",
              "    height: 32px;\n",
              "    padding: 0;\n",
              "    width: 32px;\n",
              "  }\n",
              "\n",
              "  .colab-df-quickchart:hover {\n",
              "    background-color: var(--hover-bg-color);\n",
              "    box-shadow: 0 1px 2px rgba(60, 64, 67, 0.3), 0 1px 3px 1px rgba(60, 64, 67, 0.15);\n",
              "    fill: var(--button-hover-fill-color);\n",
              "  }\n",
              "\n",
              "  .colab-df-quickchart-complete:disabled,\n",
              "  .colab-df-quickchart-complete:disabled:hover {\n",
              "    background-color: var(--disabled-bg-color);\n",
              "    fill: var(--disabled-fill-color);\n",
              "    box-shadow: none;\n",
              "  }\n",
              "\n",
              "  .colab-df-spinner {\n",
              "    border: 2px solid var(--fill-color);\n",
              "    border-color: transparent;\n",
              "    border-bottom-color: var(--fill-color);\n",
              "    animation:\n",
              "      spin 1s steps(1) infinite;\n",
              "  }\n",
              "\n",
              "  @keyframes spin {\n",
              "    0% {\n",
              "      border-color: transparent;\n",
              "      border-bottom-color: var(--fill-color);\n",
              "      border-left-color: var(--fill-color);\n",
              "    }\n",
              "    20% {\n",
              "      border-color: transparent;\n",
              "      border-left-color: var(--fill-color);\n",
              "      border-top-color: var(--fill-color);\n",
              "    }\n",
              "    30% {\n",
              "      border-color: transparent;\n",
              "      border-left-color: var(--fill-color);\n",
              "      border-top-color: var(--fill-color);\n",
              "      border-right-color: var(--fill-color);\n",
              "    }\n",
              "    40% {\n",
              "      border-color: transparent;\n",
              "      border-right-color: var(--fill-color);\n",
              "      border-top-color: var(--fill-color);\n",
              "    }\n",
              "    60% {\n",
              "      border-color: transparent;\n",
              "      border-right-color: var(--fill-color);\n",
              "    }\n",
              "    80% {\n",
              "      border-color: transparent;\n",
              "      border-right-color: var(--fill-color);\n",
              "      border-bottom-color: var(--fill-color);\n",
              "    }\n",
              "    90% {\n",
              "      border-color: transparent;\n",
              "      border-bottom-color: var(--fill-color);\n",
              "    }\n",
              "  }\n",
              "</style>\n",
              "\n",
              "  <script>\n",
              "    async function quickchart(key) {\n",
              "      const quickchartButtonEl =\n",
              "        document.querySelector('#' + key + ' button');\n",
              "      quickchartButtonEl.disabled = true;  // To prevent multiple clicks.\n",
              "      quickchartButtonEl.classList.add('colab-df-spinner');\n",
              "      try {\n",
              "        const charts = await google.colab.kernel.invokeFunction(\n",
              "            'suggestCharts', [key], {});\n",
              "      } catch (error) {\n",
              "        console.error('Error during call to suggestCharts:', error);\n",
              "      }\n",
              "      quickchartButtonEl.classList.remove('colab-df-spinner');\n",
              "      quickchartButtonEl.classList.add('colab-df-quickchart-complete');\n",
              "    }\n",
              "    (() => {\n",
              "      let quickchartButtonEl =\n",
              "        document.querySelector('#df-1963a49f-af50-4974-932a-a08c4b57eb0d button');\n",
              "      quickchartButtonEl.style.display =\n",
              "        google.colab.kernel.accessAllowed ? 'block' : 'none';\n",
              "    })();\n",
              "  </script>\n",
              "</div>\n",
              "\n",
              "    </div>\n",
              "  </div>\n"
            ],
            "text/plain": [
              "   market_id  store_primary_category  order_protocol  total_items  subtotal  \\\n",
              "0        1.0                       4             1.0            4      3441   \n",
              "1        2.0                      47             2.0            1      1900   \n",
              "2        3.0                       4             1.0            1      1900   \n",
              "3        3.0                       4             1.0            6      6900   \n",
              "4        3.0                       4             1.0            3      3900   \n",
              "\n",
              "   num_distinct_items  min_item_price  max_item_price  total_onshift_partners  \\\n",
              "0                   4             557            1239                    33.0   \n",
              "1                   1            1400            1400                     1.0   \n",
              "2                   1            1900            1900                     1.0   \n",
              "3                   5             600            1800                     1.0   \n",
              "4                   3            1100            1600                     6.0   \n",
              "\n",
              "   total_busy_partners  total_outstanding_orders   time  hour  day  \n",
              "0                 14.0                      21.0  62.98    22    4  \n",
              "1                  2.0                       2.0  67.07    21    1  \n",
              "2                  0.0                       0.0  29.68    20    3  \n",
              "3                  1.0                       2.0  51.25    21    1  \n",
              "4                  6.0                       9.0  39.83     2    6  "
            ]
          },
          "execution_count": 33,
          "metadata": {},
          "output_type": "execute_result"
        }
      ],
      "source": [
        "data.head()"
      ]
    },
    {
      "cell_type": "code",
      "execution_count": null,
      "metadata": {
        "colab": {
          "base_uri": "https://localhost:8080/"
        },
        "id": "TR9frXnpLqXz",
        "outputId": "ba3a9075-9960-4456-b30c-af5701cdcebf"
      },
      "outputs": [
        {
          "data": {
            "text/plain": [
              "market_id                      6\n",
              "store_primary_category        74\n",
              "order_protocol                 7\n",
              "total_items                   57\n",
              "subtotal                    8368\n",
              "num_distinct_items            20\n",
              "min_item_price              2312\n",
              "max_item_price              2652\n",
              "total_onshift_partners       172\n",
              "total_busy_partners          159\n",
              "total_outstanding_orders     281\n",
              "time                        7134\n",
              "hour                          19\n",
              "day                            7\n",
              "dtype: int64"
            ]
          },
          "execution_count": 34,
          "metadata": {},
          "output_type": "execute_result"
        }
      ],
      "source": [
        "data.nunique(axis = 0)"
      ]
    },
    {
      "cell_type": "code",
      "execution_count": null,
      "metadata": {
        "colab": {
          "base_uri": "https://localhost:8080/"
        },
        "id": "-yFosrSmLuSO",
        "outputId": "5b6d2703-9e22-4af0-fc37-9c6c0338b751"
      },
      "outputs": [
        {
          "data": {
            "text/plain": [
              "(197421, 14)"
            ]
          },
          "execution_count": 35,
          "metadata": {},
          "output_type": "execute_result"
        }
      ],
      "source": [
        "data.shape"
      ]
    },
    {
      "cell_type": "markdown",
      "metadata": {
        "id": "w_5UxozuMB6T"
      },
      "source": [
        "## Data visualization and cleaning"
      ]
    },
    {
      "cell_type": "code",
      "execution_count": null,
      "metadata": {
        "colab": {
          "base_uri": "https://localhost:8080/",
          "height": 467
        },
        "id": "knEGO75BL89r",
        "outputId": "b4355f52-168c-40f8-a466-a9fe5782630a"
      },
      "outputs": [
        {
          "data": {
            "text/plain": [
              "<Axes: xlabel='time', ylabel='subtotal'>"
            ]
          },
          "execution_count": 36,
          "metadata": {},
          "output_type": "execute_result"
        },
        {
          "data": {
            "image/png": "[encoded data removed]",
            "text/plain": [
              "<Figure size 640x480 with 1 Axes>"
            ]
          },
          "metadata": {},
          "output_type": "display_data"
        }
      ],
      "source": [
        "sbn.scatterplot(x = 'time', y = 'subtotal', data = data)"
      ]
    },
    {
      "cell_type": "code",
      "execution_count": null,
      "metadata": {
        "colab": {
          "base_uri": "https://localhost:8080/",
          "height": 226
        },
        "id": "JpNA4720N987",
        "outputId": "55a4db5d-73ae-4695-baa9-17a6b91ad837"
      },
      "outputs": [
        {
          "data": {
            "text/html": [
              "\n",
              "  <div id=\"df-4be60f91-7496-43ba-a467-02622b99f563\" class=\"colab-df-container\">\n",
              "    <div>\n",
              "<style scoped>\n",
              "    .dataframe tbody tr th:only-of-type {\n",
              "        vertical-align: middle;\n",
              "    }\n",
              "\n",
              "    .dataframe tbody tr th {\n",
              "        vertical-align: top;\n",
              "    }\n",
              "\n",
              "    .dataframe thead th {\n",
              "        text-align: right;\n",
              "    }\n",
              "</style>\n",
              "<table border=\"1\" class=\"dataframe\">\n",
              "  <thead>\n",
              "    <tr style=\"text-align: right;\">\n",
              "      <th></th>\n",
              "      <th>market_id</th>\n",
              "      <th>store_primary_category</th>\n",
              "      <th>order_protocol</th>\n",
              "      <th>total_items</th>\n",
              "      <th>subtotal</th>\n",
              "      <th>num_distinct_items</th>\n",
              "      <th>min_item_price</th>\n",
              "      <th>max_item_price</th>\n",
              "      <th>total_onshift_partners</th>\n",
              "      <th>total_busy_partners</th>\n",
              "      <th>total_outstanding_orders</th>\n",
              "      <th>time</th>\n",
              "      <th>hour</th>\n",
              "      <th>day</th>\n",
              "    </tr>\n",
              "  </thead>\n",
              "  <tbody>\n",
              "    <tr>\n",
              "      <th>0</th>\n",
              "      <td>1.0</td>\n",
              "      <td>4</td>\n",
              "      <td>1.0</td>\n",
              "      <td>4</td>\n",
              "      <td>3441</td>\n",
              "      <td>4</td>\n",
              "      <td>557</td>\n",
              "      <td>1239</td>\n",
              "      <td>33.0</td>\n",
              "      <td>14.0</td>\n",
              "      <td>21.0</td>\n",
              "      <td>62.98</td>\n",
              "      <td>22</td>\n",
              "      <td>4</td>\n",
              "    </tr>\n",
              "    <tr>\n",
              "      <th>1</th>\n",
              "      <td>2.0</td>\n",
              "      <td>47</td>\n",
              "      <td>2.0</td>\n",
              "      <td>1</td>\n",
              "      <td>1900</td>\n",
              "      <td>1</td>\n",
              "      <td>1400</td>\n",
              "      <td>1400</td>\n",
              "      <td>1.0</td>\n",
              "      <td>2.0</td>\n",
              "      <td>2.0</td>\n",
              "      <td>67.07</td>\n",
              "      <td>21</td>\n",
              "      <td>1</td>\n",
              "    </tr>\n",
              "    <tr>\n",
              "      <th>2</th>\n",
              "      <td>3.0</td>\n",
              "      <td>4</td>\n",
              "      <td>1.0</td>\n",
              "      <td>1</td>\n",
              "      <td>1900</td>\n",
              "      <td>1</td>\n",
              "      <td>1900</td>\n",
              "      <td>1900</td>\n",
              "      <td>1.0</td>\n",
              "      <td>0.0</td>\n",
              "      <td>0.0</td>\n",
              "      <td>29.68</td>\n",
              "      <td>20</td>\n",
              "      <td>3</td>\n",
              "    </tr>\n",
              "    <tr>\n",
              "      <th>3</th>\n",
              "      <td>3.0</td>\n",
              "      <td>4</td>\n",
              "      <td>1.0</td>\n",
              "      <td>6</td>\n",
              "      <td>6900</td>\n",
              "      <td>5</td>\n",
              "      <td>600</td>\n",
              "      <td>1800</td>\n",
              "      <td>1.0</td>\n",
              "      <td>1.0</td>\n",
              "      <td>2.0</td>\n",
              "      <td>51.25</td>\n",
              "      <td>21</td>\n",
              "      <td>1</td>\n",
              "    </tr>\n",
              "    <tr>\n",
              "      <th>4</th>\n",
              "      <td>3.0</td>\n",
              "      <td>4</td>\n",
              "      <td>1.0</td>\n",
              "      <td>3</td>\n",
              "      <td>3900</td>\n",
              "      <td>3</td>\n",
              "      <td>1100</td>\n",
              "      <td>1600</td>\n",
              "      <td>6.0</td>\n",
              "      <td>6.0</td>\n",
              "      <td>9.0</td>\n",
              "      <td>39.83</td>\n",
              "      <td>2</td>\n",
              "      <td>6</td>\n",
              "    </tr>\n",
              "  </tbody>\n",
              "</table>\n",
              "</div>\n",
              "    <div class=\"colab-df-buttons\">\n",
              "\n",
              "  <div class=\"colab-df-container\">\n",
              "    <button class=\"colab-df-convert\" onclick=\"convertToInteractive('df-4be60f91-7496-43ba-a467-02622b99f563')\"\n",
              "            title=\"Convert this dataframe to an interactive table.\"\n",
              "            style=\"display:none;\">\n",
              "\n",
              "  <svg xmlns=\"http://www.w3.org/2000/svg\" height=\"24px\" viewBox=\"0 -960 960 960\">\n",
              "    <path d=\"M120-120v-720h720v720H120Zm60-500h600v-160H180v160Zm220 220h160v-160H400v160Zm0 220h160v-160H400v160ZM180-400h160v-160H180v160Zm440 0h160v-160H620v160ZM180-180h160v-160H180v160Zm440 0h160v-160H620v160Z\"/>\n",
              "  </svg>\n",
              "    </button>\n",
              "\n",
              "  <style>\n",
              "    .colab-df-container {\n",
              "      display:flex;\n",
              "      gap: 12px;\n",
              "    }\n",
              "\n",
              "    .colab-df-convert {\n",
              "      background-color: #E8F0FE;\n",
              "      border: none;\n",
              "      border-radius: 50%;\n",
              "      cursor: pointer;\n",
              "      display: none;\n",
              "      fill: #1967D2;\n",
              "      height: 32px;\n",
              "      padding: 0 0 0 0;\n",
              "      width: 32px;\n",
              "    }\n",
              "\n",
              "    .colab-df-convert:hover {\n",
              "      background-color: #E2EBFA;\n",
              "      box-shadow: 0px 1px 2px rgba(60, 64, 67, 0.3), 0px 1px 3px 1px rgba(60, 64, 67, 0.15);\n",
              "      fill: #174EA6;\n",
              "    }\n",
              "\n",
              "    .colab-df-buttons div {\n",
              "      margin-bottom: 4px;\n",
              "    }\n",
              "\n",
              "    [theme=dark] .colab-df-convert {\n",
              "      background-color: #3B4455;\n",
              "      fill: #D2E3FC;\n",
              "    }\n",
              "\n",
              "    [theme=dark] .colab-df-convert:hover {\n",
              "      background-color: #434B5C;\n",
              "      box-shadow: 0px 1px 3px 1px rgba(0, 0, 0, 0.15);\n",
              "      filter: drop-shadow(0px 1px 2px rgba(0, 0, 0, 0.3));\n",
              "      fill: #FFFFFF;\n",
              "    }\n",
              "  </style>\n",
              "\n",
              "    <script>\n",
              "      const buttonEl =\n",
              "        document.querySelector('#df-4be60f91-7496-43ba-a467-02622b99f563 button.colab-df-convert');\n",
              "      buttonEl.style.display =\n",
              "        google.colab.kernel.accessAllowed ? 'block' : 'none';\n",
              "\n",
              "      async function convertToInteractive(key) {\n",
              "        const element = document.querySelector('#df-4be60f91-7496-43ba-a467-02622b99f563');\n",
              "        const dataTable =\n",
              "          await google.colab.kernel.invokeFunction('convertToInteractive',\n",
              "                                                    [key], {});\n",
              "        if (!dataTable) return;\n",
              "\n",
              "        const docLinkHtml = 'Like what you see? Visit the ' +\n",
              "          '<a target=\"_blank\" href=https://colab.research.google.com/notebooks/data_table.ipynb>data table notebook</a>'\n",
              "          + ' to learn more about interactive tables.';\n",
              "        element.innerHTML = '';\n",
              "        dataTable['output_type'] = 'display_data';\n",
              "        await google.colab.output.renderOutput(dataTable, element);\n",
              "        const docLink = document.createElement('div');\n",
              "        docLink.innerHTML = docLinkHtml;\n",
              "        element.appendChild(docLink);\n",
              "      }\n",
              "    </script>\n",
              "  </div>\n",
              "\n",
              "\n",
              "<div id=\"df-86af17dc-d7ea-49bb-95e7-36dc61daf551\">\n",
              "  <button class=\"colab-df-quickchart\" onclick=\"quickchart('df-86af17dc-d7ea-49bb-95e7-36dc61daf551')\"\n",
              "            title=\"Suggest charts\"\n",
              "            style=\"display:none;\">\n",
              "\n",
              "<svg xmlns=\"http://www.w3.org/2000/svg\" height=\"24px\"viewBox=\"0 0 24 24\"\n",
              "     width=\"24px\">\n",
              "    <g>\n",
              "        <path d=\"M19 3H5c-1.1 0-2 .9-2 2v14c0 1.1.9 2 2 2h14c1.1 0 2-.9 2-2V5c0-1.1-.9-2-2-2zM9 17H7v-7h2v7zm4 0h-2V7h2v10zm4 0h-2v-4h2v4z\"/>\n",
              "    </g>\n",
              "</svg>\n",
              "  </button>\n",
              "\n",
              "<style>\n",
              "  .colab-df-quickchart {\n",
              "      --bg-color: #E8F0FE;\n",
              "      --fill-color: #1967D2;\n",
              "      --hover-bg-color: #E2EBFA;\n",
              "      --hover-fill-color: #174EA6;\n",
              "      --disabled-fill-color: #AAA;\n",
              "      --disabled-bg-color: #DDD;\n",
              "  }\n",
              "\n",
              "  [theme=dark] .colab-df-quickchart {\n",
              "      --bg-color: #3B4455;\n",
              "      --fill-color: #D2E3FC;\n",
              "      --hover-bg-color: #434B5C;\n",
              "      --hover-fill-color: #FFFFFF;\n",
              "      --disabled-bg-color: #3B4455;\n",
              "      --disabled-fill-color: #666;\n",
              "  }\n",
              "\n",
              "  .colab-df-quickchart {\n",
              "    background-color: var(--bg-color);\n",
              "    border: none;\n",
              "    border-radius: 50%;\n",
              "    cursor: pointer;\n",
              "    display: none;\n",
              "    fill: var(--fill-color);\n",
              "    height: 32px;\n",
              "    padding: 0;\n",
              "    width: 32px;\n",
              "  }\n",
              "\n",
              "  .colab-df-quickchart:hover {\n",
              "    background-color: var(--hover-bg-color);\n",
              "    box-shadow: 0 1px 2px rgba(60, 64, 67, 0.3), 0 1px 3px 1px rgba(60, 64, 67, 0.15);\n",
              "    fill: var(--button-hover-fill-color);\n",
              "  }\n",
              "\n",
              "  .colab-df-quickchart-complete:disabled,\n",
              "  .colab-df-quickchart-complete:disabled:hover {\n",
              "    background-color: var(--disabled-bg-color);\n",
              "    fill: var(--disabled-fill-color);\n",
              "    box-shadow: none;\n",
              "  }\n",
              "\n",
              "  .colab-df-spinner {\n",
              "    border: 2px solid var(--fill-color);\n",
              "    border-color: transparent;\n",
              "    border-bottom-color: var(--fill-color);\n",
              "    animation:\n",
              "      spin 1s steps(1) infinite;\n",
              "  }\n",
              "\n",
              "  @keyframes spin {\n",
              "    0% {\n",
              "      border-color: transparent;\n",
              "      border-bottom-color: var(--fill-color);\n",
              "      border-left-color: var(--fill-color);\n",
              "    }\n",
              "    20% {\n",
              "      border-color: transparent;\n",
              "      border-left-color: var(--fill-color);\n",
              "      border-top-color: var(--fill-color);\n",
              "    }\n",
              "    30% {\n",
              "      border-color: transparent;\n",
              "      border-left-color: var(--fill-color);\n",
              "      border-top-color: var(--fill-color);\n",
              "      border-right-color: var(--fill-color);\n",
              "    }\n",
              "    40% {\n",
              "      border-color: transparent;\n",
              "      border-right-color: var(--fill-color);\n",
              "      border-top-color: var(--fill-color);\n",
              "    }\n",
              "    60% {\n",
              "      border-color: transparent;\n",
              "      border-right-color: var(--fill-color);\n",
              "    }\n",
              "    80% {\n",
              "      border-color: transparent;\n",
              "      border-right-color: var(--fill-color);\n",
              "      border-bottom-color: var(--fill-color);\n",
              "    }\n",
              "    90% {\n",
              "      border-color: transparent;\n",
              "      border-bottom-color: var(--fill-color);\n",
              "    }\n",
              "  }\n",
              "</style>\n",
              "\n",
              "  <script>\n",
              "    async function quickchart(key) {\n",
              "      const quickchartButtonEl =\n",
              "        document.querySelector('#' + key + ' button');\n",
              "      quickchartButtonEl.disabled = true;  // To prevent multiple clicks.\n",
              "      quickchartButtonEl.classList.add('colab-df-spinner');\n",
              "      try {\n",
              "        const charts = await google.colab.kernel.invokeFunction(\n",
              "            'suggestCharts', [key], {});\n",
              "      } catch (error) {\n",
              "        console.error('Error during call to suggestCharts:', error);\n",
              "      }\n",
              "      quickchartButtonEl.classList.remove('colab-df-spinner');\n",
              "      quickchartButtonEl.classList.add('colab-df-quickchart-complete');\n",
              "    }\n",
              "    (() => {\n",
              "      let quickchartButtonEl =\n",
              "        document.querySelector('#df-86af17dc-d7ea-49bb-95e7-36dc61daf551 button');\n",
              "      quickchartButtonEl.style.display =\n",
              "        google.colab.kernel.accessAllowed ? 'block' : 'none';\n",
              "    })();\n",
              "  </script>\n",
              "</div>\n",
              "\n",
              "    </div>\n",
              "  </div>\n"
            ],
            "text/plain": [
              "   market_id  store_primary_category  order_protocol  total_items  subtotal  \\\n",
              "0        1.0                       4             1.0            4      3441   \n",
              "1        2.0                      47             2.0            1      1900   \n",
              "2        3.0                       4             1.0            1      1900   \n",
              "3        3.0                       4             1.0            6      6900   \n",
              "4        3.0                       4             1.0            3      3900   \n",
              "\n",
              "   num_distinct_items  min_item_price  max_item_price  total_onshift_partners  \\\n",
              "0                   4             557            1239                    33.0   \n",
              "1                   1            1400            1400                     1.0   \n",
              "2                   1            1900            1900                     1.0   \n",
              "3                   5             600            1800                     1.0   \n",
              "4                   3            1100            1600                     6.0   \n",
              "\n",
              "   total_busy_partners  total_outstanding_orders   time  hour  day  \n",
              "0                 14.0                      21.0  62.98    22    4  \n",
              "1                  2.0                       2.0  67.07    21    1  \n",
              "2                  0.0                       0.0  29.68    20    3  \n",
              "3                  1.0                       2.0  51.25    21    1  \n",
              "4                  6.0                       9.0  39.83     2    6  "
            ]
          },
          "execution_count": 37,
          "metadata": {},
          "output_type": "execute_result"
        }
      ],
      "source": [
        "data.head()"
      ]
    },
    {
      "cell_type": "code",
      "execution_count": null,
      "metadata": {
        "id": "lwiycmvMMpkJ"
      },
      "outputs": [],
      "source": [
        "from sklearn.neighbors import LocalOutlierFactor\n",
        "model1 = LocalOutlierFactor()\n",
        "data['lof_score'] = model1.fit_predict(data)"
      ]
    },
    {
      "cell_type": "code",
      "execution_count": null,
      "metadata": {
        "colab": {
          "base_uri": "https://localhost:8080/",
          "height": 226
        },
        "id": "AuHSOyD5OdkO",
        "outputId": "b149c26b-4b58-4ff5-d47a-ba263888883c"
      },
      "outputs": [
        {
          "data": {
            "text/html": [
              "\n",
              "  <div id=\"df-21e30a41-2bb5-4028-b476-947d68d4cceb\" class=\"colab-df-container\">\n",
              "    <div>\n",
              "<style scoped>\n",
              "    .dataframe tbody tr th:only-of-type {\n",
              "        vertical-align: middle;\n",
              "    }\n",
              "\n",
              "    .dataframe tbody tr th {\n",
              "        vertical-align: top;\n",
              "    }\n",
              "\n",
              "    .dataframe thead th {\n",
              "        text-align: right;\n",
              "    }\n",
              "</style>\n",
              "<table border=\"1\" class=\"dataframe\">\n",
              "  <thead>\n",
              "    <tr style=\"text-align: right;\">\n",
              "      <th></th>\n",
              "      <th>market_id</th>\n",
              "      <th>store_primary_category</th>\n",
              "      <th>order_protocol</th>\n",
              "      <th>total_items</th>\n",
              "      <th>subtotal</th>\n",
              "      <th>num_distinct_items</th>\n",
              "      <th>min_item_price</th>\n",
              "      <th>max_item_price</th>\n",
              "      <th>total_onshift_partners</th>\n",
              "      <th>total_busy_partners</th>\n",
              "      <th>total_outstanding_orders</th>\n",
              "      <th>time</th>\n",
              "      <th>hour</th>\n",
              "      <th>day</th>\n",
              "      <th>lof_score</th>\n",
              "    </tr>\n",
              "  </thead>\n",
              "  <tbody>\n",
              "    <tr>\n",
              "      <th>0</th>\n",
              "      <td>1.0</td>\n",
              "      <td>4</td>\n",
              "      <td>1.0</td>\n",
              "      <td>4</td>\n",
              "      <td>3441</td>\n",
              "      <td>4</td>\n",
              "      <td>557</td>\n",
              "      <td>1239</td>\n",
              "      <td>33.0</td>\n",
              "      <td>14.0</td>\n",
              "      <td>21.0</td>\n",
              "      <td>62.98</td>\n",
              "      <td>22</td>\n",
              "      <td>4</td>\n",
              "      <td>1</td>\n",
              "    </tr>\n",
              "    <tr>\n",
              "      <th>1</th>\n",
              "      <td>2.0</td>\n",
              "      <td>47</td>\n",
              "      <td>2.0</td>\n",
              "      <td>1</td>\n",
              "      <td>1900</td>\n",
              "      <td>1</td>\n",
              "      <td>1400</td>\n",
              "      <td>1400</td>\n",
              "      <td>1.0</td>\n",
              "      <td>2.0</td>\n",
              "      <td>2.0</td>\n",
              "      <td>67.07</td>\n",
              "      <td>21</td>\n",
              "      <td>1</td>\n",
              "      <td>1</td>\n",
              "    </tr>\n",
              "    <tr>\n",
              "      <th>2</th>\n",
              "      <td>3.0</td>\n",
              "      <td>4</td>\n",
              "      <td>1.0</td>\n",
              "      <td>1</td>\n",
              "      <td>1900</td>\n",
              "      <td>1</td>\n",
              "      <td>1900</td>\n",
              "      <td>1900</td>\n",
              "      <td>1.0</td>\n",
              "      <td>0.0</td>\n",
              "      <td>0.0</td>\n",
              "      <td>29.68</td>\n",
              "      <td>20</td>\n",
              "      <td>3</td>\n",
              "      <td>1</td>\n",
              "    </tr>\n",
              "    <tr>\n",
              "      <th>3</th>\n",
              "      <td>3.0</td>\n",
              "      <td>4</td>\n",
              "      <td>1.0</td>\n",
              "      <td>6</td>\n",
              "      <td>6900</td>\n",
              "      <td>5</td>\n",
              "      <td>600</td>\n",
              "      <td>1800</td>\n",
              "      <td>1.0</td>\n",
              "      <td>1.0</td>\n",
              "      <td>2.0</td>\n",
              "      <td>51.25</td>\n",
              "      <td>21</td>\n",
              "      <td>1</td>\n",
              "      <td>1</td>\n",
              "    </tr>\n",
              "    <tr>\n",
              "      <th>4</th>\n",
              "      <td>3.0</td>\n",
              "      <td>4</td>\n",
              "      <td>1.0</td>\n",
              "      <td>3</td>\n",
              "      <td>3900</td>\n",
              "      <td>3</td>\n",
              "      <td>1100</td>\n",
              "      <td>1600</td>\n",
              "      <td>6.0</td>\n",
              "      <td>6.0</td>\n",
              "      <td>9.0</td>\n",
              "      <td>39.83</td>\n",
              "      <td>2</td>\n",
              "      <td>6</td>\n",
              "      <td>1</td>\n",
              "    </tr>\n",
              "  </tbody>\n",
              "</table>\n",
              "</div>\n",
              "    <div class=\"colab-df-buttons\">\n",
              "\n",
              "  <div class=\"colab-df-container\">\n",
              "    <button class=\"colab-df-convert\" onclick=\"convertToInteractive('df-21e30a41-2bb5-4028-b476-947d68d4cceb')\"\n",
              "            title=\"Convert this dataframe to an interactive table.\"\n",
              "            style=\"display:none;\">\n",
              "\n",
              "  <svg xmlns=\"http://www.w3.org/2000/svg\" height=\"24px\" viewBox=\"0 -960 960 960\">\n",
              "    <path d=\"M120-120v-720h720v720H120Zm60-500h600v-160H180v160Zm220 220h160v-160H400v160Zm0 220h160v-160H400v160ZM180-400h160v-160H180v160Zm440 0h160v-160H620v160ZM180-180h160v-160H180v160Zm440 0h160v-160H620v160Z\"/>\n",
              "  </svg>\n",
              "    </button>\n",
              "\n",
              "  <style>\n",
              "    .colab-df-container {\n",
              "      display:flex;\n",
              "      gap: 12px;\n",
              "    }\n",
              "\n",
              "    .colab-df-convert {\n",
              "      background-color: #E8F0FE;\n",
              "      border: none;\n",
              "      border-radius: 50%;\n",
              "      cursor: pointer;\n",
              "      display: none;\n",
              "      fill: #1967D2;\n",
              "      height: 32px;\n",
              "      padding: 0 0 0 0;\n",
              "      width: 32px;\n",
              "    }\n",
              "\n",
              "    .colab-df-convert:hover {\n",
              "      background-color: #E2EBFA;\n",
              "      box-shadow: 0px 1px 2px rgba(60, 64, 67, 0.3), 0px 1px 3px 1px rgba(60, 64, 67, 0.15);\n",
              "      fill: #174EA6;\n",
              "    }\n",
              "\n",
              "    .colab-df-buttons div {\n",
              "      margin-bottom: 4px;\n",
              "    }\n",
              "\n",
              "    [theme=dark] .colab-df-convert {\n",
              "      background-color: #3B4455;\n",
              "      fill: #D2E3FC;\n",
              "    }\n",
              "\n",
              "    [theme=dark] .colab-df-convert:hover {\n",
              "      background-color: #434B5C;\n",
              "      box-shadow: 0px 1px 3px 1px rgba(0, 0, 0, 0.15);\n",
              "      filter: drop-shadow(0px 1px 2px rgba(0, 0, 0, 0.3));\n",
              "      fill: #FFFFFF;\n",
              "    }\n",
              "  </style>\n",
              "\n",
              "    <script>\n",
              "      const buttonEl =\n",
              "        document.querySelector('#df-21e30a41-2bb5-4028-b476-947d68d4cceb button.colab-df-convert');\n",
              "      buttonEl.style.display =\n",
              "        google.colab.kernel.accessAllowed ? 'block' : 'none';\n",
              "\n",
              "      async function convertToInteractive(key) {\n",
              "        const element = document.querySelector('#df-21e30a41-2bb5-4028-b476-947d68d4cceb');\n",
              "        const dataTable =\n",
              "          await google.colab.kernel.invokeFunction('convertToInteractive',\n",
              "                                                    [key], {});\n",
              "        if (!dataTable) return;\n",
              "\n",
              "        const docLinkHtml = 'Like what you see? Visit the ' +\n",
              "          '<a target=\"_blank\" href=https://colab.research.google.com/notebooks/data_table.ipynb>data table notebook</a>'\n",
              "          + ' to learn more about interactive tables.';\n",
              "        element.innerHTML = '';\n",
              "        dataTable['output_type'] = 'display_data';\n",
              "        await google.colab.output.renderOutput(dataTable, element);\n",
              "        const docLink = document.createElement('div');\n",
              "        docLink.innerHTML = docLinkHtml;\n",
              "        element.appendChild(docLink);\n",
              "      }\n",
              "    </script>\n",
              "  </div>\n",
              "\n",
              "\n",
              "<div id=\"df-35785474-33d8-4f32-954a-305c89d7cd8f\">\n",
              "  <button class=\"colab-df-quickchart\" onclick=\"quickchart('df-35785474-33d8-4f32-954a-305c89d7cd8f')\"\n",
              "            title=\"Suggest charts\"\n",
              "            style=\"display:none;\">\n",
              "\n",
              "<svg xmlns=\"http://www.w3.org/2000/svg\" height=\"24px\"viewBox=\"0 0 24 24\"\n",
              "     width=\"24px\">\n",
              "    <g>\n",
              "        <path d=\"M19 3H5c-1.1 0-2 .9-2 2v14c0 1.1.9 2 2 2h14c1.1 0 2-.9 2-2V5c0-1.1-.9-2-2-2zM9 17H7v-7h2v7zm4 0h-2V7h2v10zm4 0h-2v-4h2v4z\"/>\n",
              "    </g>\n",
              "</svg>\n",
              "  </button>\n",
              "\n",
              "<style>\n",
              "  .colab-df-quickchart {\n",
              "      --bg-color: #E8F0FE;\n",
              "      --fill-color: #1967D2;\n",
              "      --hover-bg-color: #E2EBFA;\n",
              "      --hover-fill-color: #174EA6;\n",
              "      --disabled-fill-color: #AAA;\n",
              "      --disabled-bg-color: #DDD;\n",
              "  }\n",
              "\n",
              "  [theme=dark] .colab-df-quickchart {\n",
              "      --bg-color: #3B4455;\n",
              "      --fill-color: #D2E3FC;\n",
              "      --hover-bg-color: #434B5C;\n",
              "      --hover-fill-color: #FFFFFF;\n",
              "      --disabled-bg-color: #3B4455;\n",
              "      --disabled-fill-color: #666;\n",
              "  }\n",
              "\n",
              "  .colab-df-quickchart {\n",
              "    background-color: var(--bg-color);\n",
              "    border: none;\n",
              "    border-radius: 50%;\n",
              "    cursor: pointer;\n",
              "    display: none;\n",
              "    fill: var(--fill-color);\n",
              "    height: 32px;\n",
              "    padding: 0;\n",
              "    width: 32px;\n",
              "  }\n",
              "\n",
              "  .colab-df-quickchart:hover {\n",
              "    background-color: var(--hover-bg-color);\n",
              "    box-shadow: 0 1px 2px rgba(60, 64, 67, 0.3), 0 1px 3px 1px rgba(60, 64, 67, 0.15);\n",
              "    fill: var(--button-hover-fill-color);\n",
              "  }\n",
              "\n",
              "  .colab-df-quickchart-complete:disabled,\n",
              "  .colab-df-quickchart-complete:disabled:hover {\n",
              "    background-color: var(--disabled-bg-color);\n",
              "    fill: var(--disabled-fill-color);\n",
              "    box-shadow: none;\n",
              "  }\n",
              "\n",
              "  .colab-df-spinner {\n",
              "    border: 2px solid var(--fill-color);\n",
              "    border-color: transparent;\n",
              "    border-bottom-color: var(--fill-color);\n",
              "    animation:\n",
              "      spin 1s steps(1) infinite;\n",
              "  }\n",
              "\n",
              "  @keyframes spin {\n",
              "    0% {\n",
              "      border-color: transparent;\n",
              "      border-bottom-color: var(--fill-color);\n",
              "      border-left-color: var(--fill-color);\n",
              "    }\n",
              "    20% {\n",
              "      border-color: transparent;\n",
              "      border-left-color: var(--fill-color);\n",
              "      border-top-color: var(--fill-color);\n",
              "    }\n",
              "    30% {\n",
              "      border-color: transparent;\n",
              "      border-left-color: var(--fill-color);\n",
              "      border-top-color: var(--fill-color);\n",
              "      border-right-color: var(--fill-color);\n",
              "    }\n",
              "    40% {\n",
              "      border-color: transparent;\n",
              "      border-right-color: var(--fill-color);\n",
              "      border-top-color: var(--fill-color);\n",
              "    }\n",
              "    60% {\n",
              "      border-color: transparent;\n",
              "      border-right-color: var(--fill-color);\n",
              "    }\n",
              "    80% {\n",
              "      border-color: transparent;\n",
              "      border-right-color: var(--fill-color);\n",
              "      border-bottom-color: var(--fill-color);\n",
              "    }\n",
              "    90% {\n",
              "      border-color: transparent;\n",
              "      border-bottom-color: var(--fill-color);\n",
              "    }\n",
              "  }\n",
              "</style>\n",
              "\n",
              "  <script>\n",
              "    async function quickchart(key) {\n",
              "      const quickchartButtonEl =\n",
              "        document.querySelector('#' + key + ' button');\n",
              "      quickchartButtonEl.disabled = true;  // To prevent multiple clicks.\n",
              "      quickchartButtonEl.classList.add('colab-df-spinner');\n",
              "      try {\n",
              "        const charts = await google.colab.kernel.invokeFunction(\n",
              "            'suggestCharts', [key], {});\n",
              "      } catch (error) {\n",
              "        console.error('Error during call to suggestCharts:', error);\n",
              "      }\n",
              "      quickchartButtonEl.classList.remove('colab-df-spinner');\n",
              "      quickchartButtonEl.classList.add('colab-df-quickchart-complete');\n",
              "    }\n",
              "    (() => {\n",
              "      let quickchartButtonEl =\n",
              "        document.querySelector('#df-35785474-33d8-4f32-954a-305c89d7cd8f button');\n",
              "      quickchartButtonEl.style.display =\n",
              "        google.colab.kernel.accessAllowed ? 'block' : 'none';\n",
              "    })();\n",
              "  </script>\n",
              "</div>\n",
              "\n",
              "    </div>\n",
              "  </div>\n"
            ],
            "text/plain": [
              "   market_id  store_primary_category  order_protocol  total_items  subtotal  \\\n",
              "0        1.0                       4             1.0            4      3441   \n",
              "1        2.0                      47             2.0            1      1900   \n",
              "2        3.0                       4             1.0            1      1900   \n",
              "3        3.0                       4             1.0            6      6900   \n",
              "4        3.0                       4             1.0            3      3900   \n",
              "\n",
              "   num_distinct_items  min_item_price  max_item_price  total_onshift_partners  \\\n",
              "0                   4             557            1239                    33.0   \n",
              "1                   1            1400            1400                     1.0   \n",
              "2                   1            1900            1900                     1.0   \n",
              "3                   5             600            1800                     1.0   \n",
              "4                   3            1100            1600                     6.0   \n",
              "\n",
              "   total_busy_partners  total_outstanding_orders   time  hour  day  lof_score  \n",
              "0                 14.0                      21.0  62.98    22    4          1  \n",
              "1                  2.0                       2.0  67.07    21    1          1  \n",
              "2                  0.0                       0.0  29.68    20    3          1  \n",
              "3                  1.0                       2.0  51.25    21    1          1  \n",
              "4                  6.0                       9.0  39.83     2    6          1  "
            ]
          },
          "execution_count": 39,
          "metadata": {},
          "output_type": "execute_result"
        }
      ],
      "source": [
        "data.head()"
      ]
    },
    {
      "cell_type": "code",
      "execution_count": null,
      "metadata": {
        "id": "9MprVNGJPPgj"
      },
      "outputs": [],
      "source": [
        "data = data[data['lof_score'] == 1]"
      ]
    },
    {
      "cell_type": "code",
      "execution_count": null,
      "metadata": {
        "colab": {
          "base_uri": "https://localhost:8080/",
          "height": 467
        },
        "id": "3fE1KYuXPV7R",
        "outputId": "47167b2f-1892-40d3-b4da-47d3b079dd8d"
      },
      "outputs": [
        {
          "data": {
            "text/plain": [
              "<Axes: xlabel='day', ylabel='count'>"
            ]
          },
          "execution_count": 41,
          "metadata": {},
          "output_type": "execute_result"
        },
        {
          "data": {
            "image/png": "[encoded data removed]",
            "text/plain": [
              "<Figure size 640x480 with 1 Axes>"
            ]
          },
          "metadata": {},
          "output_type": "display_data"
        }
      ],
      "source": [
        "sbn.countplot(x= 'day', data = data)"
      ]
    },
    {
      "cell_type": "code",
      "execution_count": null,
      "metadata": {
        "colab": {
          "base_uri": "https://localhost:8080/",
          "height": 467
        },
        "id": "r3O3ussxPi23",
        "outputId": "20d28646-248a-463d-a0ec-70adda58282a"
      },
      "outputs": [
        {
          "data": {
            "text/plain": [
              "<Axes: xlabel='hour', ylabel='count'>"
            ]
          },
          "execution_count": 42,
          "metadata": {},
          "output_type": "execute_result"
        },
        {
          "data": {
            "image/png": "[encoded data removed]",
            "text/plain": [
              "<Figure size 640x480 with 1 Axes>"
            ]
          },
          "metadata": {},
          "output_type": "display_data"
        }
      ],
      "source": [
        "sbn.countplot(x= 'hour', data = data)"
      ]
    },
    {
      "cell_type": "code",
      "execution_count": null,
      "metadata": {
        "colab": {
          "base_uri": "https://localhost:8080/",
          "height": 467
        },
        "id": "atyJvaoTPpZY",
        "outputId": "9fd7850c-0871-48a1-8836-35e9c30e3b12"
      },
      "outputs": [
        {
          "data": {
            "text/plain": [
              "<Axes: xlabel='hour', ylabel='time'>"
            ]
          },
          "execution_count": 43,
          "metadata": {},
          "output_type": "execute_result"
        },
        {
          "data": {
            "image/png": "[encoded data removed]",
            "text/plain": [
              "<Figure size 640x480 with 1 Axes>"
            ]
          },
          "metadata": {},
          "output_type": "display_data"
        }
      ],
      "source": [
        "sbn.scatterplot(x = 'hour', y = 'time', data=data)"
      ]
    },
    {
      "cell_type": "code",
      "execution_count": null,
      "metadata": {
        "colab": {
          "base_uri": "https://localhost:8080/",
          "height": 467
        },
        "id": "ZYHl9FS3QCnz",
        "outputId": "5e069b9a-f6c7-42c3-f8f0-214a40656a1a"
      },
      "outputs": [
        {
          "data": {
            "text/plain": [
              "<Axes: xlabel='hour', ylabel='total_onshift_partners'>"
            ]
          },
          "execution_count": 44,
          "metadata": {},
          "output_type": "execute_result"
        },
        {
          "data": {
            "image/png": "[encoded data removed]",
            "text/plain": [
              "<Figure size 640x480 with 1 Axes>"
            ]
          },
          "metadata": {},
          "output_type": "display_data"
        }
      ],
      "source": [
        "sbn.scatterplot(x = 'hour', y = 'total_onshift_partners', data=data)"
      ]
    },
    {
      "cell_type": "code",
      "execution_count": null,
      "metadata": {
        "id": "3DeqP17IQTQD"
      },
      "outputs": [],
      "source": [
        "# all the business is happening at night :)"
      ]
    },
    {
      "cell_type": "markdown",
      "metadata": {
        "id": "USqwUQkkQn3T"
      },
      "source": [
        "## Data Modelling and split"
      ]
    },
    {
      "cell_type": "code",
      "execution_count": null,
      "metadata": {
        "id": "hN3-0NYDQiv6"
      },
      "outputs": [],
      "source": [
        "from sklearn.model_selection import train_test_split"
      ]
    },
    {
      "cell_type": "code",
      "execution_count": null,
      "metadata": {
        "id": "VgVYiY1AQ1ql"
      },
      "outputs": [],
      "source": [
        "X = data.drop(columns = ['time'])\n",
        "y = data['time']\n",
        "X_train, X_test, y_train, y_test = train_test_split(X,y, test_size = 0.2, random_state = 42)"
      ]
    },
    {
      "cell_type": "code",
      "execution_count": null,
      "metadata": {
        "id": "YYyAG13gRS3r"
      },
      "outputs": [],
      "source": [
        "from sklearn.ensemble import RandomForestRegressor"
      ]
    },
    {
      "cell_type": "code",
      "execution_count": null,
      "metadata": {
        "colab": {
          "base_uri": "https://localhost:8080/",
          "height": 75
        },
        "id": "OvBSFwx4Rcuv",
        "outputId": "bc56d78e-5eaf-44ab-ff64-2f2df2f84343"
      },
      "outputs": [
        {
          "data": {
            "text/html": [
              "<style>#sk-container-id-1 {color: black;background-color: white;}#sk-container-id-1 pre{padding: 0;}#sk-container-id-1 div.sk-toggleable {background-color: white;}#sk-container-id-1 label.sk-toggleable__label {cursor: pointer;display: block;width: 100%;margin-bottom: 0;padding: 0.3em;box-sizing: border-box;text-align: center;}#sk-container-id-1 label.sk-toggleable__label-arrow:before {content: \"▸\";float: left;margin-right: 0.25em;color: #696969;}#sk-container-id-1 label.sk-toggleable__label-arrow:hover:before {color: black;}#sk-container-id-1 div.sk-estimator:hover label.sk-toggleable__label-arrow:before {color: black;}#sk-container-id-1 div.sk-toggleable__content {max-height: 0;max-width: 0;overflow: hidden;text-align: left;background-color: #f0f8ff;}#sk-container-id-1 div.sk-toggleable__content pre {margin: 0.2em;color: black;border-radius: 0.25em;background-color: #f0f8ff;}#sk-container-id-1 input.sk-toggleable__control:checked~div.sk-toggleable__content {max-height: 200px;max-width: 100%;overflow: auto;}#sk-container-id-1 input.sk-toggleable__control:checked~label.sk-toggleable__label-arrow:before {content: \"▾\";}#sk-container-id-1 div.sk-estimator input.sk-toggleable__control:checked~label.sk-toggleable__label {background-color: #d4ebff;}#sk-container-id-1 div.sk-label input.sk-toggleable__control:checked~label.sk-toggleable__label {background-color: #d4ebff;}#sk-container-id-1 input.sk-hidden--visually {border: 0;clip: rect(1px 1px 1px 1px);clip: rect(1px, 1px, 1px, 1px);height: 1px;margin: -1px;overflow: hidden;padding: 0;position: absolute;width: 1px;}#sk-container-id-1 div.sk-estimator {font-family: monospace;background-color: #f0f8ff;border: 1px dotted black;border-radius: 0.25em;box-sizing: border-box;margin-bottom: 0.5em;}#sk-container-id-1 div.sk-estimator:hover {background-color: #d4ebff;}#sk-container-id-1 div.sk-parallel-item::after {content: \"\";width: 100%;border-bottom: 1px solid gray;flex-grow: 1;}#sk-container-id-1 div.sk-label:hover label.sk-toggleable__label {background-color: #d4ebff;}#sk-container-id-1 div.sk-serial::before {content: \"\";position: absolute;border-left: 1px solid gray;box-sizing: border-box;top: 0;bottom: 0;left: 50%;z-index: 0;}#sk-container-id-1 div.sk-serial {display: flex;flex-direction: column;align-items: center;background-color: white;padding-right: 0.2em;padding-left: 0.2em;position: relative;}#sk-container-id-1 div.sk-item {position: relative;z-index: 1;}#sk-container-id-1 div.sk-parallel {display: flex;align-items: stretch;justify-content: center;background-color: white;position: relative;}#sk-container-id-1 div.sk-item::before, #sk-container-id-1 div.sk-parallel-item::before {content: \"\";position: absolute;border-left: 1px solid gray;box-sizing: border-box;top: 0;bottom: 0;left: 50%;z-index: -1;}#sk-container-id-1 div.sk-parallel-item {display: flex;flex-direction: column;z-index: 1;position: relative;background-color: white;}#sk-container-id-1 div.sk-parallel-item:first-child::after {align-self: flex-end;width: 50%;}#sk-container-id-1 div.sk-parallel-item:last-child::after {align-self: flex-start;width: 50%;}#sk-container-id-1 div.sk-parallel-item:only-child::after {width: 0;}#sk-container-id-1 div.sk-dashed-wrapped {border: 1px dashed gray;margin: 0 0.4em 0.5em 0.4em;box-sizing: border-box;padding-bottom: 0.4em;background-color: white;}#sk-container-id-1 div.sk-label label {font-family: monospace;font-weight: bold;display: inline-block;line-height: 1.2em;}#sk-container-id-1 div.sk-label-container {text-align: center;}#sk-container-id-1 div.sk-container {/* jupyter's `normalize.less` sets `[hidden] { display: none; }` but bootstrap.min.css set `[hidden] { display: none !important; }` so we also need the `!important` here to be able to override the default hidden behavior on the sphinx rendered scikit-learn.org. See: https://github.com/scikit-learn/scikit-learn/issues/21755 */display: inline-block !important;position: relative;}#sk-container-id-1 div.sk-text-repr-fallback {display: none;}</style><div id=\"sk-container-id-1\" class=\"sk-top-container\"><div class=\"sk-text-repr-fallback\"><pre>RandomForestRegressor()</pre><b>In a Jupyter environment, please rerun this cell to show the HTML representation or trust the notebook. <br />On GitHub, the HTML representation is unable to render, please try loading this page with nbviewer.org.</b></div><div class=\"sk-container\" hidden><div class=\"sk-item\"><div class=\"sk-estimator sk-toggleable\"><input class=\"sk-toggleable__control sk-hidden--visually\" id=\"sk-estimator-id-1\" type=\"checkbox\" checked><label for=\"sk-estimator-id-1\" class=\"sk-toggleable__label sk-toggleable__label-arrow\">RandomForestRegressor</label><div class=\"sk-toggleable__content\"><pre>RandomForestRegressor()</pre></div></div></div></div></div>"
            ],
            "text/plain": [
              "RandomForestRegressor()"
            ]
          },
          "execution_count": 49,
          "metadata": {},
          "output_type": "execute_result"
        }
      ],
      "source": [
        "regressor = RandomForestRegressor()\n",
        "regressor.fit(X_train, y_train)"
      ]
    },
    {
      "cell_type": "code",
      "execution_count": null,
      "metadata": {
        "id": "O3eDRrbcSDmk"
      },
      "outputs": [],
      "source": [
        "from sklearn.metrics import mean_squared_error\n",
        "\n",
        "from sklearn.metrics import mean_absolute_percentage_error"
      ]
    },
    {
      "cell_type": "code",
      "execution_count": null,
      "metadata": {
        "colab": {
          "base_uri": "https://localhost:8080/"
        },
        "id": "XjrAvo1xRxhu",
        "outputId": "d1751791-4810-41f8-94e2-264572f7cf97"
      },
      "outputs": [
        {
          "data": {
            "text/plain": [
              "0.26400264735534956"
            ]
          },
          "execution_count": 51,
          "metadata": {},
          "output_type": "execute_result"
        }
      ],
      "source": [
        "prediction = regressor.predict(X_test)\n",
        "mean_absolute_percentage_error(y_test,prediction)"
      ]
    },
    {
      "cell_type": "code",
      "execution_count": null,
      "metadata": {
        "colab": {
          "base_uri": "https://localhost:8080/",
          "height": 467
        },
        "id": "Oen8o3A9aI4_",
        "outputId": "757ffada-b947-4029-b3b9-f2af6aedb510"
      },
      "outputs": [
        {
          "data": {
            "text/plain": [
              "Text(0.5, 0, 'Random forest feature importance')"
            ]
          },
          "execution_count": 52,
          "metadata": {},
          "output_type": "execute_result"
        },
        {
          "data": {
            "image/png": "[encoded data removed]",
            "text/plain": [
              "<Figure size 640x480 with 1 Axes>"
            ]
          },
          "metadata": {},
          "output_type": "display_data"
        }
      ],
      "source": [
        "indx = regressor.feature_importances_.argsort()\n",
        "plt.barh(data.columns[indx], regressor.feature_importances_[indx])\n",
        "plt.xlabel('Random forest feature importance')"
      ]
    },
    {
      "cell_type": "code",
      "execution_count": null,
      "metadata": {
        "id": "ITmSwBeEaQxj"
      },
      "outputs": [],
      "source": [
        "from sklearn.preprocessing import MinMaxScaler\n",
        "\n",
        "scaler = MinMaxScaler()\n",
        "\n",
        "\n",
        "X_train, X_test, y_train, y_test = train_test_split(X,y, test_size = 0.2, random_state = 42)"
      ]
    },
    {
      "cell_type": "code",
      "execution_count": null,
      "metadata": {
        "id": "RxHdIXNrch1a"
      },
      "outputs": [],
      "source": [
        "X_train = scaler.fit_transform(X_train)\n",
        "X_test = scaler.transform(X_test)"
      ]
    },
    {
      "cell_type": "code",
      "execution_count": null,
      "metadata": {
        "id": "5UHf4j0JcwwI"
      },
      "outputs": [],
      "source": [
        "from tensorflow import keras\n",
        "\n",
        "from keras.models import Sequential\n",
        "from keras.layers import Dense"
      ]
    },
    {
      "cell_type": "code",
      "execution_count": null,
      "metadata": {
        "colab": {
          "base_uri": "https://localhost:8080/"
        },
        "id": "a5hCWd8bebfX",
        "outputId": "57aba3cb-d349-49d6-8ef0-e74865c36333"
      },
      "outputs": [
        {
          "data": {
            "text/plain": [
              "(156131, 14)"
            ]
          },
          "execution_count": 56,
          "metadata": {},
          "output_type": "execute_result"
        }
      ],
      "source": [
        "X_train.shape"
      ]
    },
    {
      "cell_type": "code",
      "execution_count": null,
      "metadata": {
        "id": "0jj7t3vxdq2w"
      },
      "outputs": [],
      "source": [
        "model = Sequential()\n",
        "model.add(Dense(512, input_shape = (14,), activation = 'relu'))\n",
        "model.add(Dense(1024, activation = 'relu'))\n",
        "model.add(Dense(256, activation = 'relu'))\n",
        "model.add(Dense(1, activation = 'linear'))"
      ]
    },
    {
      "cell_type": "code",
      "execution_count": null,
      "metadata": {
        "colab": {
          "base_uri": "https://localhost:8080/"
        },
        "id": "YIKSCyq7eV1F",
        "outputId": "240da778-ffc3-44d5-de3f-72e077a607c0"
      },
      "outputs": [
        {
          "name": "stdout",
          "output_type": "stream",
          "text": [
            "Epoch 1/30\n",
            "244/244 [==============================] - 4s 5ms/step - loss: 298.5666 - mse: 298.5666 - mae: 12.7817 - val_loss: 251.8122 - val_mse: 251.8122 - val_mae: 12.1713\n",
            "Epoch 2/30\n",
            "244/244 [==============================] - 1s 4ms/step - loss: 254.4468 - mse: 254.4468 - mae: 11.9216 - val_loss: 257.7266 - val_mse: 257.7266 - val_mae: 12.5588\n",
            "Epoch 3/30\n",
            "244/244 [==============================] - 1s 4ms/step - loss: 249.4440 - mse: 249.4440 - mae: 11.7998 - val_loss: 245.1942 - val_mse: 245.1942 - val_mae: 11.6044\n",
            "Epoch 4/30\n",
            "244/244 [==============================] - 1s 4ms/step - loss: 246.8404 - mse: 246.8404 - mae: 11.7340 - val_loss: 243.3848 - val_mse: 243.3848 - val_mae: 11.7190\n",
            "Epoch 5/30\n",
            "244/244 [==============================] - 1s 4ms/step - loss: 247.9553 - mse: 247.9553 - mae: 11.7592 - val_loss: 243.3102 - val_mse: 243.3102 - val_mae: 11.8494\n",
            "Epoch 6/30\n",
            "244/244 [==============================] - 1s 4ms/step - loss: 244.2470 - mse: 244.2470 - mae: 11.6587 - val_loss: 241.1042 - val_mse: 241.1042 - val_mae: 11.4634\n",
            "Epoch 7/30\n",
            "244/244 [==============================] - 1s 4ms/step - loss: 240.5846 - mse: 240.5846 - mae: 11.5752 - val_loss: 236.9850 - val_mse: 236.9850 - val_mae: 11.4321\n",
            "Epoch 8/30\n",
            "244/244 [==============================] - 1s 6ms/step - loss: 237.9171 - mse: 237.9171 - mae: 11.5039 - val_loss: 237.6074 - val_mse: 237.6074 - val_mae: 11.3848\n",
            "Epoch 9/30\n",
            "244/244 [==============================] - 1s 6ms/step - loss: 237.5278 - mse: 237.5278 - mae: 11.4904 - val_loss: 235.4723 - val_mse: 235.4723 - val_mae: 11.3647\n",
            "Epoch 10/30\n",
            "244/244 [==============================] - 1s 4ms/step - loss: 236.0528 - mse: 236.0528 - mae: 11.4464 - val_loss: 251.4046 - val_mse: 251.4046 - val_mae: 11.4055\n",
            "Epoch 11/30\n",
            "244/244 [==============================] - 1s 4ms/step - loss: 236.6612 - mse: 236.6612 - mae: 11.4574 - val_loss: 233.7884 - val_mse: 233.7884 - val_mae: 11.4415\n",
            "Epoch 12/30\n",
            "244/244 [==============================] - 1s 4ms/step - loss: 234.7915 - mse: 234.7915 - mae: 11.4122 - val_loss: 237.2851 - val_mse: 237.2851 - val_mae: 11.8147\n",
            "Epoch 13/30\n",
            "244/244 [==============================] - 1s 4ms/step - loss: 236.0426 - mse: 236.0426 - mae: 11.4529 - val_loss: 242.9713 - val_mse: 242.9713 - val_mae: 11.2939\n",
            "Epoch 14/30\n",
            "244/244 [==============================] - 1s 4ms/step - loss: 233.8006 - mse: 233.8006 - mae: 11.3882 - val_loss: 235.0777 - val_mse: 235.0777 - val_mae: 11.3737\n",
            "Epoch 15/30\n",
            "244/244 [==============================] - 1s 4ms/step - loss: 234.0681 - mse: 234.0681 - mae: 11.3995 - val_loss: 238.6006 - val_mse: 238.6006 - val_mae: 11.2897\n",
            "Epoch 16/30\n",
            "244/244 [==============================] - 1s 4ms/step - loss: 232.9578 - mse: 232.9578 - mae: 11.3670 - val_loss: 234.1583 - val_mse: 234.1583 - val_mae: 11.3117\n",
            "Epoch 17/30\n",
            "244/244 [==============================] - 1s 4ms/step - loss: 234.0031 - mse: 234.0031 - mae: 11.3968 - val_loss: 234.2930 - val_mse: 234.2930 - val_mae: 11.3902\n",
            "Epoch 18/30\n",
            "244/244 [==============================] - 1s 4ms/step - loss: 232.2271 - mse: 232.2271 - mae: 11.3538 - val_loss: 239.8962 - val_mse: 239.8962 - val_mae: 11.2488\n",
            "Epoch 19/30\n",
            "244/244 [==============================] - 1s 5ms/step - loss: 232.8047 - mse: 232.8047 - mae: 11.3631 - val_loss: 234.0451 - val_mse: 234.0451 - val_mae: 11.6503\n",
            "Epoch 20/30\n",
            "244/244 [==============================] - 1s 6ms/step - loss: 232.4502 - mse: 232.4502 - mae: 11.3598 - val_loss: 233.9827 - val_mse: 233.9827 - val_mae: 11.4528\n",
            "Epoch 21/30\n",
            "244/244 [==============================] - 1s 5ms/step - loss: 232.0660 - mse: 232.0660 - mae: 11.3416 - val_loss: 235.3907 - val_mse: 235.3907 - val_mae: 11.2308\n",
            "Epoch 22/30\n",
            "244/244 [==============================] - 1s 4ms/step - loss: 232.2765 - mse: 232.2765 - mae: 11.3593 - val_loss: 233.6724 - val_mse: 233.6724 - val_mae: 11.3710\n",
            "Epoch 23/30\n",
            "244/244 [==============================] - 1s 4ms/step - loss: 232.2580 - mse: 232.2580 - mae: 11.3562 - val_loss: 236.8280 - val_mse: 236.8280 - val_mae: 11.7614\n",
            "Epoch 24/30\n",
            "244/244 [==============================] - 1s 4ms/step - loss: 232.4986 - mse: 232.4986 - mae: 11.3605 - val_loss: 235.1377 - val_mse: 235.1377 - val_mae: 11.2628\n",
            "Epoch 25/30\n",
            "244/244 [==============================] - 1s 4ms/step - loss: 231.7526 - mse: 231.7526 - mae: 11.3345 - val_loss: 232.6822 - val_mse: 232.6822 - val_mae: 11.4703\n",
            "Epoch 26/30\n",
            "244/244 [==============================] - 1s 4ms/step - loss: 232.1456 - mse: 232.1456 - mae: 11.3420 - val_loss: 232.3388 - val_mse: 232.3388 - val_mae: 11.3689\n",
            "Epoch 27/30\n",
            "244/244 [==============================] - 1s 4ms/step - loss: 231.5303 - mse: 231.5303 - mae: 11.3330 - val_loss: 236.9526 - val_mse: 236.9526 - val_mae: 11.8544\n",
            "Epoch 28/30\n",
            "244/244 [==============================] - 1s 4ms/step - loss: 231.0257 - mse: 231.0257 - mae: 11.3248 - val_loss: 237.1104 - val_mse: 237.1104 - val_mae: 11.8085\n",
            "Epoch 29/30\n",
            "244/244 [==============================] - 1s 4ms/step - loss: 230.4884 - mse: 230.4884 - mae: 11.3091 - val_loss: 234.5490 - val_mse: 234.5490 - val_mae: 11.2463\n",
            "Epoch 30/30\n",
            "244/244 [==============================] - 1s 5ms/step - loss: 231.0589 - mse: 231.0589 - mae: 11.3223 - val_loss: 236.3318 - val_mse: 236.3318 - val_mae: 11.2106\n"
          ]
        }
      ],
      "source": [
        "model.compile(optimizer = keras.optimizers.Adam(learning_rate = 0.01), loss = 'mse', metrics = ['mse','mae'])\n",
        "history = model.fit(X_train, y_train,epochs = 30, batch_size = 512, verbose= 1, validation_split = 0.2)"
      ]
    },
    {
      "cell_type": "code",
      "execution_count": null,
      "metadata": {
        "colab": {
          "base_uri": "https://localhost:8080/"
        },
        "id": "nv6wMcEhff2H",
        "outputId": "90c3c899-2ae8-4fe7-a0bf-a38d9b860f8c"
      },
      "outputs": [
        {
          "data": {
            "text/plain": [
              "dict_keys(['loss', 'mse', 'mae', 'val_loss', 'val_mse', 'val_mae'])"
            ]
          },
          "execution_count": 59,
          "metadata": {},
          "output_type": "execute_result"
        }
      ],
      "source": [
        "history.history.keys()"
      ]
    },
    {
      "cell_type": "code",
      "execution_count": null,
      "metadata": {
        "colab": {
          "base_uri": "https://localhost:8080/",
          "height": 430
        },
        "id": "ijKx5PMM3Cm5",
        "outputId": "8af75c92-4094-4555-dfc8-dbc13a32e7dd"
      },
      "outputs": [
        {
          "data": {
            "image/png": "[encoded data removed]",
            "text/plain": [
              "<Figure size 640x480 with 1 Axes>"
            ]
          },
          "metadata": {},
          "output_type": "display_data"
        }
      ],
      "source": [
        "sbn.lineplot(x = np.arange(1,len(history.history['loss'])+1), y = history.history['loss'], label = 'training')\n",
        "sbn.lineplot(x = np.arange(1,len(history.history['loss'])+1), y = history.history['val_loss'], label = 'validation')\n",
        "plt.legend()\n",
        "plt.show()"
      ]
    },
    {
      "cell_type": "code",
      "execution_count": null,
      "metadata": {
        "id": "U7_U_Rpe3gdk"
      },
      "outputs": [],
      "source": [
        "model2 = Sequential()\n",
        "model2.add(Dense(14, input_shape = (14,), activation = 'relu'))\n",
        "model2.add(Dense(1, activation = 'linear'))"
      ]
    },
    {
      "cell_type": "code",
      "execution_count": null,
      "metadata": {
        "colab": {
          "background_save": true,
          "base_uri": "https://localhost:8080/"
        },
        "id": "sH1OaXGv4MVJ",
        "outputId": "043bef69-ae79-4f5e-8990-1c68f5eeda76"
      },
      "outputs": [
        {
          "name": "stdout",
          "output_type": "stream",
          "text": [
            "Epoch 1/30\n",
            "122/122 [==============================] - 1s 6ms/step - loss: 228.6549 - mse: 228.6549 - mae: 11.2607 - val_loss: 230.9240 - val_mse: 230.9240 - val_mae: 11.2607\n",
            "Epoch 2/30\n",
            "122/122 [==============================] - 1s 5ms/step - loss: 227.7273 - mse: 227.7273 - mae: 11.2298 - val_loss: 231.0741 - val_mse: 231.0741 - val_mae: 11.4251\n",
            "Epoch 3/30\n",
            "122/122 [==============================] - 1s 6ms/step - loss: 227.6734 - mse: 227.6734 - mae: 11.2391 - val_loss: 237.9299 - val_mse: 237.9299 - val_mae: 11.2089\n",
            "Epoch 4/30\n",
            "122/122 [==============================] - 1s 8ms/step - loss: 227.3713 - mse: 227.3713 - mae: 11.2297 - val_loss: 231.4290 - val_mse: 231.4290 - val_mae: 11.3138\n",
            "Epoch 5/30\n",
            "122/122 [==============================] - 1s 8ms/step - loss: 227.5502 - mse: 227.5502 - mae: 11.2298 - val_loss: 230.4984 - val_mse: 230.4984 - val_mae: 11.3550\n",
            "Epoch 6/30\n",
            "122/122 [==============================] - 1s 9ms/step - loss: 227.1531 - mse: 227.1531 - mae: 11.2220 - val_loss: 233.0588 - val_mse: 233.0588 - val_mae: 11.1913\n",
            "Epoch 7/30\n",
            "122/122 [==============================] - 1s 9ms/step - loss: 227.4376 - mse: 227.4376 - mae: 11.2323 - val_loss: 232.7641 - val_mse: 232.7641 - val_mae: 11.6408\n",
            "Epoch 8/30\n",
            "122/122 [==============================] - 1s 10ms/step - loss: 226.6834 - mse: 226.6834 - mae: 11.2130 - val_loss: 230.0196 - val_mse: 230.0196 - val_mae: 11.3679\n",
            "Epoch 9/30\n",
            "122/122 [==============================] - 2s 12ms/step - loss: 226.6591 - mse: 226.6591 - mae: 11.2109 - val_loss: 229.7900 - val_mse: 229.7900 - val_mae: 11.3675\n",
            "Epoch 10/30\n",
            "122/122 [==============================] - 2s 13ms/step - loss: 226.2590 - mse: 226.2590 - mae: 11.2118 - val_loss: 230.5212 - val_mse: 230.5212 - val_mae: 11.4057\n",
            "Epoch 11/30\n",
            "122/122 [==============================] - 1s 12ms/step - loss: 227.1837 - mse: 227.1837 - mae: 11.2249 - val_loss: 232.9591 - val_mse: 232.9591 - val_mae: 11.5168\n",
            "Epoch 12/30\n",
            "122/122 [==============================] - 1s 10ms/step - loss: 226.3437 - mse: 226.3437 - mae: 11.2045 - val_loss: 230.3175 - val_mse: 230.3175 - val_mae: 11.3764\n",
            "Epoch 13/30\n",
            "122/122 [==============================] - 1s 9ms/step - loss: 225.8029 - mse: 225.8029 - mae: 11.1870 - val_loss: 229.7114 - val_mse: 229.7114 - val_mae: 11.3073\n",
            "Epoch 14/30\n",
            "122/122 [==============================] - 1s 10ms/step - loss: 226.0362 - mse: 226.0362 - mae: 11.1936 - val_loss: 230.8420 - val_mse: 230.8420 - val_mae: 11.2393\n",
            "Epoch 15/30\n",
            "122/122 [==============================] - 1s 9ms/step - loss: 226.7017 - mse: 226.7017 - mae: 11.2091 - val_loss: 230.6605 - val_mse: 230.6605 - val_mae: 11.3966\n",
            "Epoch 16/30\n",
            "122/122 [==============================] - 1s 9ms/step - loss: 225.3760 - mse: 225.3760 - mae: 11.1862 - val_loss: 234.0775 - val_mse: 234.0775 - val_mae: 11.1725\n",
            "Epoch 17/30\n",
            "122/122 [==============================] - 1s 9ms/step - loss: 225.9102 - mse: 225.9102 - mae: 11.1850 - val_loss: 232.5628 - val_mse: 232.5628 - val_mae: 11.5595\n",
            "Epoch 18/30\n",
            "122/122 [==============================] - 1s 7ms/step - loss: 224.7206 - mse: 224.7206 - mae: 11.1684 - val_loss: 230.9077 - val_mse: 230.9077 - val_mae: 11.4673\n",
            "Epoch 19/30\n",
            "122/122 [==============================] - 1s 5ms/step - loss: 225.2691 - mse: 225.2691 - mae: 11.1774 - val_loss: 234.8033 - val_mse: 234.8033 - val_mae: 11.1751\n",
            "Epoch 20/30\n",
            "122/122 [==============================] - 1s 6ms/step - loss: 226.0321 - mse: 226.0321 - mae: 11.1997 - val_loss: 230.0557 - val_mse: 230.0557 - val_mae: 11.4001\n",
            "Epoch 21/30\n",
            "122/122 [==============================] - 1s 6ms/step - loss: 224.3488 - mse: 224.3488 - mae: 11.1512 - val_loss: 230.0604 - val_mse: 230.0604 - val_mae: 11.3568\n",
            "Epoch 22/30\n",
            "122/122 [==============================] - 1s 6ms/step - loss: 224.0209 - mse: 224.0209 - mae: 11.1516 - val_loss: 229.9585 - val_mse: 229.9585 - val_mae: 11.3167\n",
            "Epoch 23/30\n",
            "122/122 [==============================] - 1s 7ms/step - loss: 223.9748 - mse: 223.9748 - mae: 11.1556 - val_loss: 232.3589 - val_mse: 232.3589 - val_mae: 11.3752\n",
            "Epoch 24/30\n",
            "122/122 [==============================] - 1s 5ms/step - loss: 224.5089 - mse: 224.5089 - mae: 11.1602 - val_loss: 231.2155 - val_mse: 231.2155 - val_mae: 11.2921\n",
            "Epoch 25/30\n",
            "122/122 [==============================] - 1s 5ms/step - loss: 223.4818 - mse: 223.4818 - mae: 11.1384 - val_loss: 231.3739 - val_mse: 231.3739 - val_mae: 11.3710\n",
            "Epoch 26/30\n",
            "122/122 [==============================] - 1s 5ms/step - loss: 224.4809 - mse: 224.4809 - mae: 11.1554 - val_loss: 229.9143 - val_mse: 229.9143 - val_mae: 11.4720\n",
            "Epoch 27/30\n",
            "122/122 [==============================] - 1s 4ms/step - loss: 223.5853 - mse: 223.5853 - mae: 11.1465 - val_loss: 229.9294 - val_mse: 229.9294 - val_mae: 11.2746\n",
            "Epoch 28/30\n",
            "122/122 [==============================] - 1s 4ms/step - loss: 223.2130 - mse: 223.2130 - mae: 11.1360 - val_loss: 230.9725 - val_mse: 230.9725 - val_mae: 11.5230\n",
            "Epoch 29/30\n",
            "122/122 [==============================] - 1s 4ms/step - loss: 222.9441 - mse: 222.9441 - mae: 11.1276 - val_loss: 232.4743 - val_mse: 232.4743 - val_mae: 11.5067\n",
            "Epoch 30/30\n",
            "122/122 [==============================] - 1s 4ms/step - loss: 224.2825 - mse: 224.2825 - mae: 11.1512 - val_loss: 233.5070 - val_mse: 233.5070 - val_mae: 11.1662\n"
          ]
        }
      ],
      "source": [
        "model2.compile(optimizer = keras.optimizers.Adam(learning_rate = 0.01), loss = 'mse', metrics = ['mse','mae'])\n",
        "history = model.fit(X_train, y_train,epochs = 30, batch_size = 1024, verbose= 1, validation_split = 0.2)"
      ]
    },
    {
      "cell_type": "code",
      "execution_count": null,
      "metadata": {
        "id": "iq3AMlRe8uTb",
        "outputId": "aec135fc-c276-471a-d95c-67d3535e3793",
        "colab": {
          "base_uri": "https://localhost:8080/",
          "height": 430
        }
      },
      "outputs": [
        {
          "output_type": "display_data",
          "data": {
            "text/plain": [
              "<Figure size 640x480 with 1 Axes>"
            ],
            "image/png": "[encoded data removed]"
          },
          "metadata": {}
        }
      ],
      "source": [
        "sbn.lineplot(x = np.arange(1,len(history.history['loss'])+1), y = history.history['loss'], label = 'training')\n",
        "sbn.lineplot(x = np.arange(1,len(history.history['loss'])+1), y = history.history['val_loss'], label = 'validation')\n",
        "plt.legend()\n",
        "plt.show()"
      ]
    },
    {
      "cell_type": "code",
      "source": [
        "from sklearn.metrics import mean_absolute_percentage_error"
      ],
      "metadata": {
        "id": "mJCbzvOQAfua"
      },
      "execution_count": 67,
      "outputs": []
    },
    {
      "cell_type": "code",
      "source": [
        "model3 = Sequential()\n",
        "model3.add(Dense(14, input_shape = (14,), activation = 'relu'))\n",
        "model3.add(Dense(64,activation = 'relu'))\n",
        "model3.add(Dense(16, activation = 'relu'))\n",
        "model3.add(Dense(1, activation = 'linear'))\n",
        "\n",
        "model3.compile(optimizer = keras.optimizers.Adam(learning_rate = 0.01), loss = 'mse', metrics = ['mse','mae'])\n",
        "history3 = model3.fit(X_train, y_train,epochs = 40, batch_size = 512, verbose= 1, validation_split = 0.2)\n",
        "\n",
        "sbn.lineplot(x = np.arange(1,len(history3.history['loss'])+1), y = history3.history['loss'], label = 'training')\n",
        "sbn.lineplot(x = np.arange(1,len(history3.history['loss'])+1), y = history3.history['val_loss'], label = 'validation')\n",
        "plt.legend()\n",
        "plt.show()"
      ],
      "metadata": {
        "colab": {
          "base_uri": "https://localhost:8080/",
          "height": 1000
        },
        "id": "hTw_R44QAkpJ",
        "outputId": "82c8d454-126e-4aad-f784-49eb642e6b0c"
      },
      "execution_count": 68,
      "outputs": [
        {
          "output_type": "stream",
          "name": "stdout",
          "text": [
            "Epoch 1/40\n",
            "244/244 [==============================] - 4s 7ms/step - loss: 477.7107 - mse: 477.7107 - mae: 15.7760 - val_loss: 263.8560 - val_mse: 263.8560 - val_mae: 12.0309\n",
            "Epoch 2/40\n",
            "244/244 [==============================] - 1s 4ms/step - loss: 256.0599 - mse: 256.0599 - mae: 11.9672 - val_loss: 254.9502 - val_mse: 254.9502 - val_mae: 12.1904\n",
            "Epoch 3/40\n",
            "244/244 [==============================] - 1s 4ms/step - loss: 251.3776 - mse: 251.3776 - mae: 11.8481 - val_loss: 251.1788 - val_mse: 251.1788 - val_mae: 11.9102\n",
            "Epoch 4/40\n",
            "244/244 [==============================] - 1s 4ms/step - loss: 250.4498 - mse: 250.4498 - mae: 11.8304 - val_loss: 250.1747 - val_mse: 250.1747 - val_mae: 11.8493\n",
            "Epoch 5/40\n",
            "244/244 [==============================] - 1s 4ms/step - loss: 248.6997 - mse: 248.6997 - mae: 11.7820 - val_loss: 249.5806 - val_mse: 249.5806 - val_mae: 11.8253\n",
            "Epoch 6/40\n",
            "244/244 [==============================] - 1s 4ms/step - loss: 249.0967 - mse: 249.0967 - mae: 11.7910 - val_loss: 250.9102 - val_mse: 250.9102 - val_mae: 12.1116\n",
            "Epoch 7/40\n",
            "244/244 [==============================] - 1s 4ms/step - loss: 247.4763 - mse: 247.4763 - mae: 11.7563 - val_loss: 248.2515 - val_mse: 248.2515 - val_mae: 11.6857\n",
            "Epoch 8/40\n",
            "244/244 [==============================] - 1s 4ms/step - loss: 247.3731 - mse: 247.3731 - mae: 11.7580 - val_loss: 256.1743 - val_mse: 256.1743 - val_mae: 11.6467\n",
            "Epoch 9/40\n",
            "244/244 [==============================] - 1s 4ms/step - loss: 246.8435 - mse: 246.8435 - mae: 11.7386 - val_loss: 246.9988 - val_mse: 246.9988 - val_mae: 11.8258\n",
            "Epoch 10/40\n",
            "244/244 [==============================] - 1s 4ms/step - loss: 245.8724 - mse: 245.8724 - mae: 11.7169 - val_loss: 249.4798 - val_mse: 249.4798 - val_mae: 11.6372\n",
            "Epoch 11/40\n",
            "244/244 [==============================] - 1s 4ms/step - loss: 246.9517 - mse: 246.9517 - mae: 11.7405 - val_loss: 246.4983 - val_mse: 246.4983 - val_mae: 11.8842\n",
            "Epoch 12/40\n",
            "244/244 [==============================] - 1s 4ms/step - loss: 245.7253 - mse: 245.7253 - mae: 11.7163 - val_loss: 247.3521 - val_mse: 247.3521 - val_mae: 11.9472\n",
            "Epoch 13/40\n",
            "244/244 [==============================] - 1s 5ms/step - loss: 245.3553 - mse: 245.3553 - mae: 11.7002 - val_loss: 245.5208 - val_mse: 245.5208 - val_mae: 11.7747\n",
            "Epoch 14/40\n",
            "244/244 [==============================] - 1s 5ms/step - loss: 245.3304 - mse: 245.3304 - mae: 11.7016 - val_loss: 246.6843 - val_mse: 246.6843 - val_mae: 11.9469\n",
            "Epoch 15/40\n",
            "244/244 [==============================] - 1s 4ms/step - loss: 244.6877 - mse: 244.6877 - mae: 11.6866 - val_loss: 245.1226 - val_mse: 245.1226 - val_mae: 11.7513\n",
            "Epoch 16/40\n",
            "244/244 [==============================] - 1s 4ms/step - loss: 244.5648 - mse: 244.5648 - mae: 11.6814 - val_loss: 246.3714 - val_mse: 246.3714 - val_mae: 11.9389\n",
            "Epoch 17/40\n",
            "244/244 [==============================] - 1s 4ms/step - loss: 245.1001 - mse: 245.1001 - mae: 11.6942 - val_loss: 244.0648 - val_mse: 244.0648 - val_mae: 11.7444\n",
            "Epoch 18/40\n",
            "244/244 [==============================] - 1s 4ms/step - loss: 243.5950 - mse: 243.5950 - mae: 11.6507 - val_loss: 247.5101 - val_mse: 247.5101 - val_mae: 11.6180\n",
            "Epoch 19/40\n",
            "244/244 [==============================] - 1s 4ms/step - loss: 244.0849 - mse: 244.0849 - mae: 11.6644 - val_loss: 247.9288 - val_mse: 247.9288 - val_mae: 11.5879\n",
            "Epoch 20/40\n",
            "244/244 [==============================] - 1s 4ms/step - loss: 243.4692 - mse: 243.4692 - mae: 11.6443 - val_loss: 243.7877 - val_mse: 243.7877 - val_mae: 11.7142\n",
            "Epoch 21/40\n",
            "244/244 [==============================] - 1s 4ms/step - loss: 242.9959 - mse: 242.9959 - mae: 11.6333 - val_loss: 242.9883 - val_mse: 242.9883 - val_mae: 11.7519\n",
            "Epoch 22/40\n",
            "244/244 [==============================] - 1s 4ms/step - loss: 242.2374 - mse: 242.2374 - mae: 11.6125 - val_loss: 242.9325 - val_mse: 242.9325 - val_mae: 11.5871\n",
            "Epoch 23/40\n",
            "244/244 [==============================] - 1s 4ms/step - loss: 242.0724 - mse: 242.0724 - mae: 11.6070 - val_loss: 241.7912 - val_mse: 241.7912 - val_mae: 11.6102\n",
            "Epoch 24/40\n",
            "244/244 [==============================] - 1s 4ms/step - loss: 241.5273 - mse: 241.5273 - mae: 11.5938 - val_loss: 242.0651 - val_mse: 242.0651 - val_mae: 11.7138\n",
            "Epoch 25/40\n",
            "244/244 [==============================] - 1s 4ms/step - loss: 241.5989 - mse: 241.5989 - mae: 11.5957 - val_loss: 242.0166 - val_mse: 242.0166 - val_mae: 11.6741\n",
            "Epoch 26/40\n",
            "244/244 [==============================] - 1s 6ms/step - loss: 241.2214 - mse: 241.2214 - mae: 11.5881 - val_loss: 240.8848 - val_mse: 240.8848 - val_mae: 11.6403\n",
            "Epoch 27/40\n",
            "244/244 [==============================] - 1s 5ms/step - loss: 241.7338 - mse: 241.7338 - mae: 11.5950 - val_loss: 242.4322 - val_mse: 242.4322 - val_mae: 11.5519\n",
            "Epoch 28/40\n",
            "244/244 [==============================] - 1s 4ms/step - loss: 240.7896 - mse: 240.7896 - mae: 11.5769 - val_loss: 245.9262 - val_mse: 245.9262 - val_mae: 11.4828\n",
            "Epoch 29/40\n",
            "244/244 [==============================] - 1s 4ms/step - loss: 240.9520 - mse: 240.9520 - mae: 11.5856 - val_loss: 242.1567 - val_mse: 242.1567 - val_mae: 11.5161\n",
            "Epoch 30/40\n",
            "244/244 [==============================] - 1s 4ms/step - loss: 240.7274 - mse: 240.7274 - mae: 11.5806 - val_loss: 242.5995 - val_mse: 242.5995 - val_mae: 11.5190\n",
            "Epoch 31/40\n",
            "244/244 [==============================] - 1s 4ms/step - loss: 239.7264 - mse: 239.7264 - mae: 11.5614 - val_loss: 242.2397 - val_mse: 242.2397 - val_mae: 11.5025\n",
            "Epoch 32/40\n",
            "244/244 [==============================] - 1s 4ms/step - loss: 239.7601 - mse: 239.7601 - mae: 11.5547 - val_loss: 241.7497 - val_mse: 241.7497 - val_mae: 11.5412\n",
            "Epoch 33/40\n",
            "244/244 [==============================] - 1s 4ms/step - loss: 239.4061 - mse: 239.4061 - mae: 11.5499 - val_loss: 239.8520 - val_mse: 239.8520 - val_mae: 11.6423\n",
            "Epoch 34/40\n",
            "244/244 [==============================] - 1s 4ms/step - loss: 239.9861 - mse: 239.9861 - mae: 11.5654 - val_loss: 248.0303 - val_mse: 248.0303 - val_mae: 12.1711\n",
            "Epoch 35/40\n",
            "244/244 [==============================] - 1s 4ms/step - loss: 240.2063 - mse: 240.2063 - mae: 11.5705 - val_loss: 241.3944 - val_mse: 241.3944 - val_mae: 11.5437\n",
            "Epoch 36/40\n",
            "244/244 [==============================] - 1s 4ms/step - loss: 238.6854 - mse: 238.6854 - mae: 11.5273 - val_loss: 241.7830 - val_mse: 241.7830 - val_mae: 11.8751\n",
            "Epoch 37/40\n",
            "244/244 [==============================] - 1s 4ms/step - loss: 239.1932 - mse: 239.1932 - mae: 11.5484 - val_loss: 240.9879 - val_mse: 240.9879 - val_mae: 11.7268\n",
            "Epoch 38/40\n",
            "244/244 [==============================] - 1s 5ms/step - loss: 239.9936 - mse: 239.9936 - mae: 11.5714 - val_loss: 243.4343 - val_mse: 243.4343 - val_mae: 11.4676\n",
            "Epoch 39/40\n",
            "244/244 [==============================] - 1s 5ms/step - loss: 238.6504 - mse: 238.6504 - mae: 11.5310 - val_loss: 239.8932 - val_mse: 239.8932 - val_mae: 11.5829\n",
            "Epoch 40/40\n",
            "244/244 [==============================] - 1s 5ms/step - loss: 238.1875 - mse: 238.1875 - mae: 11.5209 - val_loss: 240.0409 - val_mse: 240.0409 - val_mae: 11.6020\n"
          ]
        },
        {
          "output_type": "display_data",
          "data": {
            "text/plain": [
              "<Figure size 640x480 with 1 Axes>"
            ],
            "image/png": "[encoded data removed]"
          },
          "metadata": {}
        }
      ]
    },
    {
      "cell_type": "code",
      "source": [
        "from keras.initializers import he_normal"
      ],
      "metadata": {
        "id": "auxxO311D0Ze"
      },
      "execution_count": 72,
      "outputs": []
    },
    {
      "cell_type": "code",
      "source": [
        "model4 = Sequential()\n",
        "model4.add(Dense(14, input_shape = (14,), activation = 'relu',kernel_initializer = he_normal()))\n",
        "model4.add(Dense(64,activation = 'relu',kernel_initializer = he_normal()))\n",
        "model4.add(Dense(16, activation = 'relu',kernel_initializer = he_normal()))\n",
        "model4.add(Dense(1, activation = 'linear'))\n",
        "\n",
        "model4.compile(optimizer = keras.optimizers.Adam(learning_rate = 0.05), loss = 'mse', metrics = ['mse','mae'])\n",
        "history4 = model4.fit(X_train, y_train,epochs = 40, batch_size = 512, verbose= 1, validation_split = 0.2)\n",
        "\n",
        "sbn.lineplot(x = np.arange(1,len(history4.history['loss'])+1), y = history4.history['loss'], label = 'training')\n",
        "sbn.lineplot(x = np.arange(1,len(history4.history['loss'])+1), y = history4.history['val_loss'], label = 'validation')\n",
        "plt.legend()\n",
        "plt.show()"
      ],
      "metadata": {
        "colab": {
          "base_uri": "https://localhost:8080/",
          "height": 1000
        },
        "id": "x-rCypvDBJDf",
        "outputId": "727b19f7-a1df-413c-fb2b-dff961c17628"
      },
      "execution_count": 73,
      "outputs": [
        {
          "output_type": "stream",
          "name": "stdout",
          "text": [
            "Epoch 1/40\n",
            "244/244 [==============================] - 3s 6ms/step - loss: 311.7282 - mse: 311.7282 - mae: 13.0146 - val_loss: 256.2583 - val_mse: 256.2583 - val_mae: 12.0090\n",
            "Epoch 2/40\n",
            "244/244 [==============================] - 1s 4ms/step - loss: 250.2934 - mse: 250.2934 - mae: 11.8210 - val_loss: 247.4939 - val_mse: 247.4939 - val_mae: 11.8073\n",
            "Epoch 3/40\n",
            "244/244 [==============================] - 1s 4ms/step - loss: 249.6059 - mse: 249.6059 - mae: 11.7982 - val_loss: 254.3787 - val_mse: 254.3787 - val_mae: 12.3762\n",
            "Epoch 4/40\n",
            "244/244 [==============================] - 1s 4ms/step - loss: 248.9772 - mse: 248.9772 - mae: 11.7879 - val_loss: 253.4305 - val_mse: 253.4305 - val_mae: 11.6220\n",
            "Epoch 5/40\n",
            "244/244 [==============================] - 1s 4ms/step - loss: 249.3916 - mse: 249.3916 - mae: 11.7981 - val_loss: 246.4065 - val_mse: 246.4065 - val_mae: 11.7953\n",
            "Epoch 6/40\n",
            "244/244 [==============================] - 1s 4ms/step - loss: 248.1776 - mse: 248.1776 - mae: 11.7664 - val_loss: 247.5630 - val_mse: 247.5630 - val_mae: 11.6419\n",
            "Epoch 7/40\n",
            "244/244 [==============================] - 1s 4ms/step - loss: 249.6649 - mse: 249.6649 - mae: 11.8082 - val_loss: 246.2722 - val_mse: 246.2722 - val_mae: 11.8329\n",
            "Epoch 8/40\n",
            "244/244 [==============================] - 1s 4ms/step - loss: 248.0108 - mse: 248.0108 - mae: 11.7580 - val_loss: 252.0084 - val_mse: 252.0084 - val_mae: 11.5923\n",
            "Epoch 9/40\n",
            "244/244 [==============================] - 1s 4ms/step - loss: 247.7658 - mse: 247.7658 - mae: 11.7471 - val_loss: 247.3611 - val_mse: 247.3611 - val_mae: 11.8282\n",
            "Epoch 10/40\n",
            "244/244 [==============================] - 1s 4ms/step - loss: 246.1839 - mse: 246.1839 - mae: 11.7131 - val_loss: 247.7626 - val_mse: 247.7626 - val_mae: 11.6546\n",
            "Epoch 11/40\n",
            "244/244 [==============================] - 1s 4ms/step - loss: 247.7826 - mse: 247.7826 - mae: 11.7538 - val_loss: 245.6135 - val_mse: 245.6135 - val_mae: 11.7791\n",
            "Epoch 12/40\n",
            "244/244 [==============================] - 1s 5ms/step - loss: 245.4561 - mse: 245.4561 - mae: 11.7024 - val_loss: 245.2214 - val_mse: 245.2214 - val_mae: 11.7853\n",
            "Epoch 13/40\n",
            "244/244 [==============================] - 1s 5ms/step - loss: 245.3522 - mse: 245.3522 - mae: 11.6997 - val_loss: 245.0498 - val_mse: 245.0498 - val_mae: 11.6369\n",
            "Epoch 14/40\n",
            "244/244 [==============================] - 1s 5ms/step - loss: 245.9590 - mse: 245.9590 - mae: 11.6972 - val_loss: 251.6130 - val_mse: 251.6130 - val_mae: 11.5530\n",
            "Epoch 15/40\n",
            "244/244 [==============================] - 1s 4ms/step - loss: 245.9378 - mse: 245.9378 - mae: 11.7061 - val_loss: 245.7208 - val_mse: 245.7208 - val_mae: 11.5623\n",
            "Epoch 16/40\n",
            "244/244 [==============================] - 1s 4ms/step - loss: 244.8227 - mse: 244.8227 - mae: 11.6792 - val_loss: 253.3596 - val_mse: 253.3596 - val_mae: 12.4051\n",
            "Epoch 17/40\n",
            "244/244 [==============================] - 1s 4ms/step - loss: 243.6317 - mse: 243.6317 - mae: 11.6509 - val_loss: 242.7045 - val_mse: 242.7045 - val_mae: 11.7935\n",
            "Epoch 18/40\n",
            "244/244 [==============================] - 1s 4ms/step - loss: 243.1775 - mse: 243.1775 - mae: 11.6386 - val_loss: 244.8839 - val_mse: 244.8839 - val_mae: 11.9317\n",
            "Epoch 19/40\n",
            "244/244 [==============================] - 1s 4ms/step - loss: 243.7331 - mse: 243.7331 - mae: 11.6511 - val_loss: 242.3486 - val_mse: 242.3486 - val_mae: 11.7248\n",
            "Epoch 20/40\n",
            "244/244 [==============================] - 1s 4ms/step - loss: 242.4966 - mse: 242.4966 - mae: 11.6232 - val_loss: 243.0729 - val_mse: 243.0729 - val_mae: 11.5961\n",
            "Epoch 21/40\n",
            "244/244 [==============================] - 1s 4ms/step - loss: 244.0553 - mse: 244.0553 - mae: 11.6604 - val_loss: 243.7132 - val_mse: 243.7132 - val_mae: 11.5572\n",
            "Epoch 22/40\n",
            "244/244 [==============================] - 1s 4ms/step - loss: 242.6103 - mse: 242.6103 - mae: 11.6187 - val_loss: 241.9326 - val_mse: 241.9326 - val_mae: 11.6079\n",
            "Epoch 23/40\n",
            "244/244 [==============================] - 1s 4ms/step - loss: 242.9400 - mse: 242.9400 - mae: 11.6316 - val_loss: 244.6227 - val_mse: 244.6227 - val_mae: 11.9488\n",
            "Epoch 24/40\n",
            "244/244 [==============================] - 1s 4ms/step - loss: 243.1575 - mse: 243.1575 - mae: 11.6361 - val_loss: 242.1705 - val_mse: 242.1705 - val_mae: 11.6618\n",
            "Epoch 25/40\n",
            "244/244 [==============================] - 1s 5ms/step - loss: 241.2738 - mse: 241.2738 - mae: 11.5841 - val_loss: 240.0036 - val_mse: 240.0036 - val_mae: 11.5736\n",
            "Epoch 26/40\n",
            "244/244 [==============================] - 1s 6ms/step - loss: 239.5749 - mse: 239.5749 - mae: 11.5455 - val_loss: 242.6930 - val_mse: 242.6930 - val_mae: 11.5549\n",
            "Epoch 27/40\n",
            "244/244 [==============================] - 1s 4ms/step - loss: 238.8626 - mse: 238.8626 - mae: 11.5135 - val_loss: 258.5505 - val_mse: 258.5505 - val_mae: 12.6984\n",
            "Epoch 28/40\n",
            "244/244 [==============================] - 1s 4ms/step - loss: 238.4204 - mse: 238.4204 - mae: 11.5126 - val_loss: 237.4436 - val_mse: 237.4436 - val_mae: 11.6876\n",
            "Epoch 29/40\n",
            "244/244 [==============================] - 1s 4ms/step - loss: 237.0031 - mse: 237.0031 - mae: 11.4754 - val_loss: 240.1829 - val_mse: 240.1829 - val_mae: 11.8581\n",
            "Epoch 30/40\n",
            "244/244 [==============================] - 1s 4ms/step - loss: 236.8159 - mse: 236.8159 - mae: 11.4735 - val_loss: 236.8230 - val_mse: 236.8230 - val_mae: 11.4450\n",
            "Epoch 31/40\n",
            "244/244 [==============================] - 1s 4ms/step - loss: 236.0027 - mse: 236.0027 - mae: 11.4500 - val_loss: 237.6734 - val_mse: 237.6734 - val_mae: 11.5119\n",
            "Epoch 32/40\n",
            "244/244 [==============================] - 1s 4ms/step - loss: 236.4590 - mse: 236.4590 - mae: 11.4597 - val_loss: 240.5323 - val_mse: 240.5323 - val_mae: 11.8795\n",
            "Epoch 33/40\n",
            "244/244 [==============================] - 1s 4ms/step - loss: 237.1622 - mse: 237.1622 - mae: 11.4758 - val_loss: 237.8664 - val_mse: 237.8664 - val_mae: 11.3228\n",
            "Epoch 34/40\n",
            "244/244 [==============================] - 1s 4ms/step - loss: 235.6000 - mse: 235.6000 - mae: 11.4397 - val_loss: 236.5792 - val_mse: 236.5792 - val_mae: 11.6677\n",
            "Epoch 35/40\n",
            "244/244 [==============================] - 1s 4ms/step - loss: 235.5564 - mse: 235.5564 - mae: 11.4312 - val_loss: 237.5832 - val_mse: 237.5832 - val_mae: 11.7784\n",
            "Epoch 36/40\n",
            "244/244 [==============================] - 1s 4ms/step - loss: 235.2362 - mse: 235.2362 - mae: 11.4292 - val_loss: 235.9390 - val_mse: 235.9390 - val_mae: 11.5049\n",
            "Epoch 37/40\n",
            "244/244 [==============================] - 1s 4ms/step - loss: 235.5865 - mse: 235.5865 - mae: 11.4383 - val_loss: 236.9151 - val_mse: 236.9151 - val_mae: 11.3170\n",
            "Epoch 38/40\n",
            "244/244 [==============================] - 1s 6ms/step - loss: 235.5255 - mse: 235.5255 - mae: 11.4367 - val_loss: 240.6421 - val_mse: 240.6421 - val_mae: 11.3391\n",
            "Epoch 39/40\n",
            "244/244 [==============================] - 2s 8ms/step - loss: 236.0599 - mse: 236.0599 - mae: 11.4516 - val_loss: 240.0664 - val_mse: 240.0664 - val_mae: 11.3194\n",
            "Epoch 40/40\n",
            "244/244 [==============================] - 1s 6ms/step - loss: 234.1463 - mse: 234.1463 - mae: 11.3967 - val_loss: 236.0217 - val_mse: 236.0217 - val_mae: 11.6742\n"
          ]
        },
        {
          "output_type": "display_data",
          "data": {
            "text/plain": [
              "<Figure size 640x480 with 1 Axes>"
            ],
            "image/png": "[encoded data removed]"
          },
          "metadata": {}
        }
      ]
    },
    {
      "cell_type": "code",
      "source": [
        "model5 = Sequential()\n",
        "model5.add(Dense(14, input_shape = (14,), activation = 'relu',kernel_initializer = he_normal()))\n",
        "model5.add(Dense(64,activation = 'relu',kernel_initializer = he_normal()))\n",
        "model5.add(Dense(16, activation = 'relu',kernel_initializer = he_normal()))\n",
        "model5.add(Dense(1, activation = 'linear'))\n",
        "\n",
        "model5.compile(optimizer = keras.optimizers.Adam(learning_rate = 0.01), loss = 'mse', metrics = ['mse','mae'])\n",
        "history5 = model5.fit(X_train, y_train,epochs = 40, batch_size = 512, verbose= 1, validation_split = 0.2)\n",
        "\n",
        "sbn.lineplot(x = np.arange(1,len(history5.history['loss'])+1), y = history5.history['loss'], label = 'training')\n",
        "sbn.lineplot(x = np.arange(1,len(history5.history['loss'])+1), y = history5.history['val_loss'], label = 'validation')\n",
        "plt.legend()\n",
        "plt.show()"
      ],
      "metadata": {
        "colab": {
          "base_uri": "https://localhost:8080/",
          "height": 1000
        },
        "id": "IPzFKkXKEfiI",
        "outputId": "fcbf83e1-1ed0-4cf9-83a4-9e52382b8c0e"
      },
      "execution_count": 74,
      "outputs": [
        {
          "output_type": "stream",
          "name": "stdout",
          "text": [
            "Epoch 1/40\n",
            "244/244 [==============================] - 3s 7ms/step - loss: 425.9659 - mse: 425.9659 - mae: 14.9790 - val_loss: 260.8950 - val_mse: 260.8950 - val_mae: 12.3631\n",
            "Epoch 2/40\n",
            "244/244 [==============================] - 1s 6ms/step - loss: 251.7012 - mse: 251.7012 - mae: 11.8706 - val_loss: 249.4077 - val_mse: 249.4077 - val_mae: 11.7421\n",
            "Epoch 3/40\n",
            "244/244 [==============================] - 1s 5ms/step - loss: 248.1485 - mse: 248.1485 - mae: 11.7722 - val_loss: 249.1530 - val_mse: 249.1530 - val_mae: 11.8599\n",
            "Epoch 4/40\n",
            "244/244 [==============================] - 1s 4ms/step - loss: 247.1474 - mse: 247.1474 - mae: 11.7502 - val_loss: 250.3725 - val_mse: 250.3725 - val_mae: 12.1236\n",
            "Epoch 5/40\n",
            "244/244 [==============================] - 1s 4ms/step - loss: 246.5263 - mse: 246.5263 - mae: 11.7290 - val_loss: 246.6730 - val_mse: 246.6730 - val_mae: 11.7804\n",
            "Epoch 6/40\n",
            "244/244 [==============================] - 1s 4ms/step - loss: 247.0728 - mse: 247.0728 - mae: 11.7437 - val_loss: 247.3927 - val_mse: 247.3927 - val_mae: 11.6989\n",
            "Epoch 7/40\n",
            "244/244 [==============================] - 1s 4ms/step - loss: 246.1728 - mse: 246.1728 - mae: 11.7232 - val_loss: 246.8499 - val_mse: 246.8499 - val_mae: 11.8791\n",
            "Epoch 8/40\n",
            "244/244 [==============================] - 1s 4ms/step - loss: 245.3404 - mse: 245.3404 - mae: 11.6959 - val_loss: 250.2727 - val_mse: 250.2727 - val_mae: 12.1872\n",
            "Epoch 9/40\n",
            "244/244 [==============================] - 1s 4ms/step - loss: 245.4621 - mse: 245.4621 - mae: 11.6979 - val_loss: 245.4787 - val_mse: 245.4787 - val_mae: 11.8582\n",
            "Epoch 10/40\n",
            "244/244 [==============================] - 1s 4ms/step - loss: 244.4668 - mse: 244.4668 - mae: 11.6735 - val_loss: 247.5578 - val_mse: 247.5578 - val_mae: 11.9099\n",
            "Epoch 11/40\n",
            "244/244 [==============================] - 1s 4ms/step - loss: 244.5272 - mse: 244.5272 - mae: 11.6724 - val_loss: 246.3399 - val_mse: 246.3399 - val_mae: 11.9471\n",
            "Epoch 12/40\n",
            "244/244 [==============================] - 1s 4ms/step - loss: 244.5098 - mse: 244.5098 - mae: 11.6743 - val_loss: 245.0567 - val_mse: 245.0567 - val_mae: 11.6628\n",
            "Epoch 13/40\n",
            "244/244 [==============================] - 1s 4ms/step - loss: 244.3514 - mse: 244.3514 - mae: 11.6684 - val_loss: 253.4087 - val_mse: 253.4087 - val_mae: 12.3021\n",
            "Epoch 14/40\n",
            "244/244 [==============================] - 1s 6ms/step - loss: 243.9129 - mse: 243.9129 - mae: 11.6582 - val_loss: 243.7938 - val_mse: 243.7938 - val_mae: 11.7450\n",
            "Epoch 15/40\n",
            "244/244 [==============================] - 1s 6ms/step - loss: 243.5108 - mse: 243.5108 - mae: 11.6486 - val_loss: 244.5412 - val_mse: 244.5412 - val_mae: 11.5978\n",
            "Epoch 16/40\n",
            "244/244 [==============================] - 1s 4ms/step - loss: 243.1903 - mse: 243.1903 - mae: 11.6347 - val_loss: 243.8202 - val_mse: 243.8202 - val_mae: 11.7291\n",
            "Epoch 17/40\n",
            "244/244 [==============================] - 1s 4ms/step - loss: 243.6703 - mse: 243.6703 - mae: 11.6413 - val_loss: 246.8569 - val_mse: 246.8569 - val_mae: 11.5681\n",
            "Epoch 18/40\n",
            "244/244 [==============================] - 1s 4ms/step - loss: 243.2472 - mse: 243.2472 - mae: 11.6383 - val_loss: 244.3371 - val_mse: 244.3371 - val_mae: 11.6548\n",
            "Epoch 19/40\n",
            "244/244 [==============================] - 1s 4ms/step - loss: 242.4343 - mse: 242.4343 - mae: 11.6151 - val_loss: 244.0830 - val_mse: 244.0830 - val_mae: 11.8111\n",
            "Epoch 20/40\n",
            "244/244 [==============================] - 1s 4ms/step - loss: 242.5218 - mse: 242.5218 - mae: 11.6210 - val_loss: 243.0267 - val_mse: 243.0267 - val_mae: 11.6659\n",
            "Epoch 21/40\n",
            "244/244 [==============================] - 1s 4ms/step - loss: 242.6872 - mse: 242.6872 - mae: 11.6205 - val_loss: 246.3699 - val_mse: 246.3699 - val_mae: 11.9909\n",
            "Epoch 22/40\n",
            "244/244 [==============================] - 1s 4ms/step - loss: 242.6357 - mse: 242.6357 - mae: 11.6239 - val_loss: 245.2579 - val_mse: 245.2579 - val_mae: 11.9319\n",
            "Epoch 23/40\n",
            "244/244 [==============================] - 1s 4ms/step - loss: 242.1206 - mse: 242.1206 - mae: 11.6111 - val_loss: 246.3962 - val_mse: 246.3962 - val_mae: 12.0630\n",
            "Epoch 24/40\n",
            "244/244 [==============================] - 1s 4ms/step - loss: 242.2568 - mse: 242.2568 - mae: 11.6181 - val_loss: 242.7636 - val_mse: 242.7636 - val_mae: 11.6188\n",
            "Epoch 25/40\n",
            "244/244 [==============================] - 1s 5ms/step - loss: 241.5082 - mse: 241.5082 - mae: 11.5964 - val_loss: 244.1701 - val_mse: 244.1701 - val_mae: 11.5064\n",
            "Epoch 26/40\n",
            "244/244 [==============================] - 2s 6ms/step - loss: 241.0466 - mse: 241.0466 - mae: 11.5804 - val_loss: 240.8175 - val_mse: 240.8175 - val_mae: 11.5592\n",
            "Epoch 27/40\n",
            "244/244 [==============================] - 1s 5ms/step - loss: 239.0441 - mse: 239.0441 - mae: 11.5240 - val_loss: 239.1917 - val_mse: 239.1917 - val_mae: 11.6305\n",
            "Epoch 28/40\n",
            "244/244 [==============================] - 1s 4ms/step - loss: 238.9046 - mse: 238.9046 - mae: 11.5275 - val_loss: 240.3489 - val_mse: 240.3489 - val_mae: 11.4735\n",
            "Epoch 29/40\n",
            "244/244 [==============================] - 1s 4ms/step - loss: 237.2090 - mse: 237.2090 - mae: 11.4829 - val_loss: 238.9394 - val_mse: 238.9394 - val_mae: 11.5472\n",
            "Epoch 30/40\n",
            "244/244 [==============================] - 1s 4ms/step - loss: 237.4479 - mse: 237.4479 - mae: 11.4909 - val_loss: 239.4174 - val_mse: 239.4174 - val_mae: 11.3435\n",
            "Epoch 31/40\n",
            "244/244 [==============================] - 1s 4ms/step - loss: 236.1354 - mse: 236.1354 - mae: 11.4520 - val_loss: 238.4193 - val_mse: 238.4193 - val_mae: 11.7975\n",
            "Epoch 32/40\n",
            "244/244 [==============================] - 1s 4ms/step - loss: 235.3508 - mse: 235.3508 - mae: 11.4317 - val_loss: 236.4670 - val_mse: 236.4670 - val_mae: 11.5996\n",
            "Epoch 33/40\n",
            "244/244 [==============================] - 1s 4ms/step - loss: 234.7913 - mse: 234.7913 - mae: 11.4202 - val_loss: 238.0621 - val_mse: 238.0621 - val_mae: 11.7629\n",
            "Epoch 34/40\n",
            "244/244 [==============================] - 1s 4ms/step - loss: 235.8797 - mse: 235.8797 - mae: 11.4486 - val_loss: 235.2399 - val_mse: 235.2399 - val_mae: 11.3583\n",
            "Epoch 35/40\n",
            "244/244 [==============================] - 1s 4ms/step - loss: 234.2947 - mse: 234.2947 - mae: 11.4039 - val_loss: 236.9089 - val_mse: 236.9089 - val_mae: 11.6005\n",
            "Epoch 36/40\n",
            "244/244 [==============================] - 1s 4ms/step - loss: 234.1026 - mse: 234.1026 - mae: 11.3951 - val_loss: 234.5007 - val_mse: 234.5007 - val_mae: 11.5509\n",
            "Epoch 37/40\n",
            "244/244 [==============================] - 1s 4ms/step - loss: 234.4870 - mse: 234.4870 - mae: 11.4132 - val_loss: 234.3772 - val_mse: 234.3772 - val_mae: 11.4164\n",
            "Epoch 38/40\n",
            "244/244 [==============================] - 1s 6ms/step - loss: 233.5783 - mse: 233.5783 - mae: 11.3891 - val_loss: 236.6770 - val_mse: 236.6770 - val_mae: 11.3491\n",
            "Epoch 39/40\n",
            "244/244 [==============================] - 1s 6ms/step - loss: 233.7516 - mse: 233.7516 - mae: 11.3953 - val_loss: 234.8671 - val_mse: 234.8671 - val_mae: 11.5800\n",
            "Epoch 40/40\n",
            "244/244 [==============================] - 1s 4ms/step - loss: 234.2073 - mse: 234.2073 - mae: 11.4037 - val_loss: 235.0637 - val_mse: 235.0637 - val_mae: 11.3672\n"
          ]
        },
        {
          "output_type": "display_data",
          "data": {
            "text/plain": [
              "<Figure size 640x480 with 1 Axes>"
            ],
            "image/png": "[encoded data removed]"
          },
          "metadata": {}
        }
      ]
    },
    {
      "cell_type": "code",
      "source": [
        "prediction = model5.predict(X_test)"
      ],
      "metadata": {
        "colab": {
          "base_uri": "https://localhost:8080/"
        },
        "id": "x5Jkw1J-FB6D",
        "outputId": "4525798e-b776-43e8-b6d2-f64333821909"
      },
      "execution_count": 76,
      "outputs": [
        {
          "output_type": "stream",
          "name": "stdout",
          "text": [
            "1220/1220 [==============================] - 3s 3ms/step\n"
          ]
        }
      ]
    },
    {
      "cell_type": "code",
      "source": [
        "mean_absolute_percentage_error(prediction, y_test)"
      ],
      "metadata": {
        "colab": {
          "base_uri": "https://localhost:8080/"
        },
        "id": "Fz5cl0czFDsC",
        "outputId": "ffe0b007-cb95-4720-8656-b86a48ff56f3"
      },
      "execution_count": 77,
      "outputs": [
        {
          "output_type": "execute_result",
          "data": {
            "text/plain": [
              "0.24510890902444843"
            ]
          },
          "metadata": {},
          "execution_count": 77
        }
      ]
    },
    {
      "cell_type": "code",
      "source": [
        "!pip install optuna"
      ],
      "metadata": {
        "colab": {
          "base_uri": "https://localhost:8080/"
        },
        "id": "JmlXc1M9FOJ8",
        "outputId": "dae6311c-9576-4009-baa8-37e18ea29489"
      },
      "execution_count": 81,
      "outputs": [
        {
          "output_type": "stream",
          "name": "stdout",
          "text": [
            "Collecting optuna\n",
            "  Downloading optuna-3.5.0-py3-none-any.whl (413 kB)\n",
            "\u001b[2K     \u001b[90m━━━━━━━━━━━━━━━━━━━━━━━━━━━━━━━━━━━━━━━━\u001b[0m \u001b[32m413.4/413.4 kB\u001b[0m \u001b[31m3.5 MB/s\u001b[0m eta \u001b[36m0:00:00\u001b[0m\n",
            "\u001b[?25hCollecting alembic>=1.5.0 (from optuna)\n",
            "  Downloading alembic-1.13.1-py3-none-any.whl (233 kB)\n",
            "\u001b[2K     \u001b[90m━━━━━━━━━━━━━━━━━━━━━━━━━━━━━━━━━━━━━━━━\u001b[0m \u001b[32m233.4/233.4 kB\u001b[0m \u001b[31m18.4 MB/s\u001b[0m eta \u001b[36m0:00:00\u001b[0m\n",
            "\u001b[?25hCollecting colorlog (from optuna)\n",
            "  Downloading colorlog-6.8.0-py3-none-any.whl (11 kB)\n",
            "Requirement already satisfied: numpy in /usr/local/lib/python3.10/dist-packages (from optuna) (1.23.5)\n",
            "Requirement already satisfied: packaging>=20.0 in /usr/local/lib/python3.10/dist-packages (from optuna) (23.2)\n",
            "Requirement already satisfied: sqlalchemy>=1.3.0 in /usr/local/lib/python3.10/dist-packages (from optuna) (2.0.23)\n",
            "Requirement already satisfied: tqdm in /usr/local/lib/python3.10/dist-packages (from optuna) (4.66.1)\n",
            "Requirement already satisfied: PyYAML in /usr/local/lib/python3.10/dist-packages (from optuna) (6.0.1)\n",
            "Collecting Mako (from alembic>=1.5.0->optuna)\n",
            "  Downloading Mako-1.3.0-py3-none-any.whl (78 kB)\n",
            "\u001b[2K     \u001b[90m━━━━━━━━━━━━━━━━━━━━━━━━━━━━━━━━━━━━━━━━\u001b[0m \u001b[32m78.6/78.6 kB\u001b[0m \u001b[31m11.7 MB/s\u001b[0m eta \u001b[36m0:00:00\u001b[0m\n",
            "\u001b[?25hRequirement already satisfied: typing-extensions>=4 in /usr/local/lib/python3.10/dist-packages (from alembic>=1.5.0->optuna) (4.5.0)\n",
            "Requirement already satisfied: greenlet!=0.4.17 in /usr/local/lib/python3.10/dist-packages (from sqlalchemy>=1.3.0->optuna) (3.0.2)\n",
            "Requirement already satisfied: MarkupSafe>=0.9.2 in /usr/local/lib/python3.10/dist-packages (from Mako->alembic>=1.5.0->optuna) (2.1.3)\n",
            "Installing collected packages: Mako, colorlog, alembic, optuna\n",
            "Successfully installed Mako-1.3.0 alembic-1.13.1 colorlog-6.8.0 optuna-3.5.0\n"
          ]
        }
      ]
    },
    {
      "cell_type": "code",
      "source": [
        "import optuna\n",
        "from keras.models import Sequential\n",
        "from keras.layers import Dense\n",
        "from keras.optimizers import Adam\n",
        "from sklearn.metrics import mean_squared_error\n",
        "from sklearn.model_selection import train_test_split\n",
        "from sklearn.preprocessing import StandardScaler\n",
        "import numpy as np\n",
        "\n",
        "X_train, X_val, y_train, y_val = train_test_split(X, y, test_size=0.2, random_state=42)\n",
        "scaler = StandardScaler()\n",
        "X_train = scaler.fit_transform(X_train)\n",
        "X_test = scaler.transform(X_test)\n",
        "\n",
        "def objective(trial):\n",
        "  model = Sequential()\n",
        "  model.add(Dense(trial.suggest_int('first_layer', 10,50), input_shape = (X_train.shape[1],), kernel_initializer= 'he_normal'))\n",
        "  for i in range(trial.suggest_int('num_layer', 1,3)):\n",
        "    model.add(Dense(trial.suggest_int(f'h{i}_layer', 10,50), activation = 'relu', kernel_initializer = 'he_normal'))\n",
        "  model.add(Dense(1, activation='linear'))\n",
        "  optimizer = Adam(learning_rate=trial.suggest_loguniform('learning_rate', 1e-5, 1e-2))\n",
        "  model.compile(optimizer=optimizer, loss='mean_squared_error')\n",
        "\n",
        "  # Train the model\n",
        "  model.fit(X_train, y_train, epochs=10, batch_size=32, verbose=0)\n",
        "\n",
        "  # Evaluate on the validation set\n",
        "  y_pred = model.predict(X_val)\n",
        "  mse = mean_squared_error(y_val, y_pred.flatten())\n",
        "\n",
        "  return mse\n",
        "\n"
      ],
      "metadata": {
        "id": "gVqDIk-jFXjI"
      },
      "execution_count": 82,
      "outputs": []
    },
    {
      "cell_type": "code",
      "source": [
        "\n",
        "study = optuna.create_study(direction='minimize')\n",
        "study.optimize(objective, n_trials=10)\n",
        "\n",
        "print('Best trial:')\n",
        "print(study.best_trial.params)"
      ],
      "metadata": {
        "id": "BzJGGcoPI18M"
      },
      "execution_count": null,
      "outputs": []
    }
  ],
  "metadata": {
    "accelerator": "GPU",
    "colab": {
      "provenance": []
    },
    "kernelspec": {
      "display_name": "Python 3",
      "name": "python3"
    },
    "language_info": {
      "name": "python"
    }
  },
  "nbformat": 4,
  "nbformat_minor": 0
}